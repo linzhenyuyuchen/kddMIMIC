{
 "cells": [
  {
   "cell_type": "markdown",
   "metadata": {},
   "source": [
    "# read subject csv"
   ]
  },
  {
   "cell_type": "code",
   "execution_count": 3,
   "metadata": {},
   "outputs": [],
   "source": [
    "import os, sys, yaml\n",
    "from tqdm import tqdm_notebook as tqdm\n",
    "\n",
    "from utils.preprocessing import *\n",
    "from utils.read_csv import *\n",
    "from utils.episode_custom import *\n",
    "cfg = yaml.load(open(\"./config.yaml\",\"r\"), Loader=yaml.FullLoader)\n",
    "output_path = cfg[\"output_path\"]\n",
    "output_subject_path = cfg[\"output_subject_path\"]\n",
    "itemids_file = cfg[\"itemids_file\"]\n",
    "event_tables = cfg[\"event_tables\"]\n",
    "resources_path = cfg[\"resources\"]\n",
    "# read all variables in events\n",
    "variables = read_variables(resources_path)"
   ]
  },
  {
   "cell_type": "markdown",
   "metadata": {},
   "source": [
    "# extract episodes from subjects"
   ]
  },
  {
   "cell_type": "code",
   "execution_count": 4,
   "metadata": {},
   "outputs": [
    {
     "name": "stdout",
     "output_type": "stream",
     "text": [
      "/data2/lzylzy/mimic/subjects/46600\n",
      "reading tables...\n",
      "reading static data...\n",
      "reading timeseries data...\n",
      "extracting separate episodes\n"
     ]
    }
   ],
   "source": [
    "def episode_split(subject_dir ,variables):\n",
    "    dn = os.path.join(output_subject_path, str(subject_dir))\n",
    "    print(dn)\n",
    "    try:\n",
    "        subject_id = int(subject_dir)\n",
    "        if not os.path.isdir(dn):\n",
    "            raise Exception\n",
    "    except:\n",
    "        sys.stderr.write('No dir for subject: {}\\n'.format(subject_id))\n",
    "        return\n",
    "    print(\"reading tables...\")\n",
    "    # read tables of this subject\n",
    "    stays = read_stays(dn)\n",
    "    diagnoses = read_diagnoses(dn, resources_path)\n",
    "    procedures = read_procedures(dn, resources_path)\n",
    "    # map itemids to variables in event\n",
    "    events = read_events(dn, resources_path)\n",
    "\n",
    "    print(\"reading static data...\")\n",
    "    episodic_data = assemble_episodic_data(stays, diagnoses, procedures)\n",
    "\n",
    "    # cleaning and converting to time series\n",
    "    #events = clean_events(events)\n",
    "    if events.shape[0] == 0:\n",
    "        # no valid events for this subject\n",
    "        sys.stderr.write('No valid events for this subject: {}\\n'.format(subject_id))\n",
    "        return\n",
    "    print(\"reading timeseries data...\")\n",
    "    timeseries = convert_events_to_timeseries(events, variables=variables)\n",
    "    # extracting separate episodes\n",
    "    print(\"extracting separate episodes\")\n",
    "    for i in range(stays.shape[0]):\n",
    "        stay_id = stays.ICUSTAY_ID.iloc[i]\n",
    "        intime = stays.INTIME.iloc[i]\n",
    "        outtime = stays.OUTTIME.iloc[i]\n",
    "\n",
    "        episode = get_events_for_stay(timeseries, stay_id, intime, outtime)\n",
    "        if episode.shape[0] == 0:\n",
    "            # no data for this episode\n",
    "            continue\n",
    "\n",
    "        episode = add_hours_elpased_to_events(episode, intime).set_index('HOURS').sort_index(axis=0)\n",
    "        \n",
    "        episodic_data.loc[episodic_data.index == stay_id].to_csv(os.path.join(dn,'episode{}.csv'.format(i+1)),index_label='Icustay')\n",
    "        columns = list(episode.columns)\n",
    "        columns_sorted = sorted(columns, key=(lambda x: \"\" if x == \"HOURS\" else x))\n",
    "        episode = episode[columns_sorted]\n",
    "        episode.to_csv(os.path.join(dn, 'episode{}_timeseries.csv'.format(i+1)),index_label='HOURS')\n",
    "episode_split(46600, variables)"
   ]
  },
  {
   "cell_type": "code",
   "execution_count": null,
   "metadata": {},
   "outputs": [],
   "source": []
  },
  {
   "cell_type": "raw",
   "metadata": {},
   "source": []
  },
  {
   "cell_type": "code",
   "execution_count": null,
   "metadata": {},
   "outputs": [],
   "source": []
  }
 ],
 "metadata": {
  "kernelspec": {
   "display_name": "pt",
   "language": "python",
   "name": "pt"
  },
  "language_info": {
   "codemirror_mode": {
    "name": "ipython",
    "version": 3
   },
   "file_extension": ".py",
   "mimetype": "text/x-python",
   "name": "python",
   "nbconvert_exporter": "python",
   "pygments_lexer": "ipython3",
   "version": "3.7.3"
  }
 },
 "nbformat": 4,
 "nbformat_minor": 2
}
