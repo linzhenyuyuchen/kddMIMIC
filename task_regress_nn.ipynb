{
 "cells": [
  {
   "cell_type": "code",
   "execution_count": 7,
   "metadata": {},
   "outputs": [
    {
     "data": {
      "text/html": [
       "        <script type=\"text/javascript\">\n",
       "        window.PlotlyConfig = {MathJaxConfig: 'local'};\n",
       "        if (window.MathJax) {MathJax.Hub.Config({SVG: {font: \"STIX-Web\"}});}\n",
       "        if (typeof require !== 'undefined') {\n",
       "        require.undef(\"plotly\");\n",
       "        requirejs.config({\n",
       "            paths: {\n",
       "                'plotly': ['https://cdn.plot.ly/plotly-latest.min']\n",
       "            }\n",
       "        });\n",
       "        require(['plotly'], function(Plotly) {\n",
       "            window._Plotly = Plotly;\n",
       "        });\n",
       "        }\n",
       "        </script>\n",
       "        "
      ]
     },
     "metadata": {},
     "output_type": "display_data"
    }
   ],
   "source": [
    "import yaml\n",
    "import pickle\n",
    "import random\n",
    "import numpy as np\n",
    "from matplotlib import pylab as plt\n",
    "import plotly\n",
    "import plotly.offline as py\n",
    "import plotly.express as px\n",
    "import plotly.graph_objects as go\n",
    "import plotly.io as pio\n",
    "plotly.offline.init_notebook_mode(connected=True)\n",
    "\n",
    "#from model.taskHelper import taskHelper\n",
    "from preprocessing.dataset import mDataset,nnDataset\n",
    "from preprocessing.featureSelector import featureSelector\n",
    "\n",
    "from model.taskHelper import *\n",
    "\n",
    "from sklearn.ensemble import RandomForestRegressor, RandomForestClassifier, AdaBoostClassifier, GradientBoostingRegressor, AdaBoostRegressor, BaggingRegressor\n",
    "from sklearn.neural_network import MLPClassifier\n",
    "\n",
    "from sklearn.preprocessing import StandardScaler, Normalizer, MinMaxScaler\n",
    "from sklearn.impute import SimpleImputer\n",
    "from sklearn.decomposition import PCA\n",
    "from sklearn.metrics import mean_squared_error, mean_absolute_error"
   ]
  },
  {
   "cell_type": "code",
   "execution_count": 8,
   "metadata": {},
   "outputs": [],
   "source": [
    "# Hyper-parameters\n",
    "cfg = yaml.load(open(\"./cfg.yaml\", \"r\"), Loader=yaml.FullLoader)\n",
    "class_names = cfg[\"class_names\"]\n",
    "feature_names = cfg[\"feature_names\"]\n",
    "feature_dir = cfg[\"feature_dir\"]"
   ]
  },
  {
   "cell_type": "code",
   "execution_count": 9,
   "metadata": {},
   "outputs": [],
   "source": [
    "# Configure\n",
    "show_feature_name = False\n",
    "feature_dir1 = \"/data1/lzy/3st/features_delta_exp_1mm/\"\n",
    "feature_dir2 = \"/data1/lzy/3st/features_delta_shr_1mm/\"\n",
    "class_names_train = {\n",
    "    \"C058_train_origin_delta\": 4,\n",
    "    \"C058_train_exp1_delta\": 5,\n",
    "    \"C058_train_shr1_delta\": 3,\n",
    "    \"C058_train_exp2_delta\": 6,\n",
    "    \"C058_train_shr2_delta\": 2,\n",
    "    \"C058_train_exp3_delta\": 7,\n",
    "    \"C058_train_shr3_delta\": 1,\n",
    "    \"C058_train_exp4_delta\": 8,\n",
    "    \"C058_train_shr4_delta\": 0,\n",
    "}\n",
    "class_names_test = {\n",
    "    \"C058_test_origin_delta\": 4,\n",
    "    \"C058_test_exp1_delta\": 5,\n",
    "    \"C058_test_shr1_delta\": 3,\n",
    "    \"C058_test_exp2_delta\": 6,\n",
    "    \"C058_test_shr2_delta\": 2,\n",
    "    \"C058_test_exp3_delta\": 7,\n",
    "    \"C058_test_shr3_delta\": 1,\n",
    "    \"C058_test_exp4_delta\": 8,\n",
    "    \"C058_test_shr4_delta\": 0,\n",
    "}"
   ]
  },
  {
   "cell_type": "code",
   "execution_count": 10,
   "metadata": {
    "scrolled": true
   },
   "outputs": [
    {
     "name": "stdout",
     "output_type": "stream",
     "text": [
      "get # 112  of  C058_train_origin_delta\n",
      "get # 112  of  C058_train_exp1_delta\n",
      "get # 112  of  C058_train_shr1_delta\n",
      "get # 112  of  C058_train_exp2_delta\n",
      "get # 112  of  C058_train_shr2_delta\n",
      "get # 112  of  C058_train_exp3_delta\n",
      "get # 112  of  C058_train_shr3_delta\n",
      "get # 112  of  C058_train_exp4_delta\n",
      "get # 112  of  C058_train_shr4_delta\n",
      "get # 112  of  C058_train_origin_delta\n",
      "get # 112  of  C058_train_exp1_delta\n",
      "get # 112  of  C058_train_shr1_delta\n",
      "get # 112  of  C058_train_exp2_delta\n",
      "get # 112  of  C058_train_shr2_delta\n",
      "get # 112  of  C058_train_exp3_delta\n",
      "get # 112  of  C058_train_shr3_delta\n",
      "get # 112  of  C058_train_exp4_delta\n",
      "get # 112  of  C058_train_shr4_delta\n",
      "get # 87  of  C058_test_origin_delta\n",
      "get # 87  of  C058_test_exp1_delta\n",
      "get # 87  of  C058_test_shr1_delta\n",
      "get # 87  of  C058_test_exp2_delta\n",
      "get # 87  of  C058_test_shr2_delta\n",
      "get # 87  of  C058_test_exp3_delta\n",
      "get # 87  of  C058_test_shr3_delta\n",
      "get # 87  of  C058_test_exp4_delta\n",
      "get # 87  of  C058_test_shr4_delta\n",
      "get # 87  of  C058_test_origin_delta\n",
      "get # 87  of  C058_test_exp1_delta\n",
      "get # 87  of  C058_test_shr1_delta\n",
      "get # 87  of  C058_test_exp2_delta\n",
      "get # 87  of  C058_test_shr2_delta\n",
      "get # 87  of  C058_test_exp3_delta\n",
      "get # 87  of  C058_test_shr3_delta\n",
      "get # 87  of  C058_test_exp4_delta\n",
      "get # 87  of  C058_test_shr4_delta\n",
      "(1008, 1800)\n",
      "(783, 1800)\n"
     ]
    }
   ],
   "source": [
    "myDataset = mDataset(feature_dir1, class_names_train, feature_names)\n",
    "X_train1, y_train1 = myDataset.getDataset()\n",
    "myDataset = mDataset(feature_dir2, class_names_train, feature_names)\n",
    "X_train2, y_train2 = myDataset.getDataset()\n",
    "\n",
    "myDataset = mDataset(feature_dir1, class_names_test, feature_names)\n",
    "X_test1, y_test1 = myDataset.getDataset()\n",
    "myDataset = mDataset(feature_dir2, class_names_test, feature_names)\n",
    "X_test2, y_test2 = myDataset.getDataset()\n",
    "\n",
    "X_train = np.concatenate([X_train1,X_train2],axis=1)\n",
    "y_train = y_train1\n",
    "X_test = np.concatenate([X_test1,X_test2],axis=1)\n",
    "y_test = y_test1\n",
    "\n",
    "print(X_train.shape)\n",
    "print(X_test.shape)\n",
    "\n",
    "imp = SimpleImputer(missing_values=np.nan, strategy='mean')\n",
    "imp.fit(X_train)\n",
    "X_train = imp.transform(X_train)\n",
    "X_test = imp.transform(X_test)\n",
    "\n",
    "\n",
    "scaler = StandardScaler()\n",
    "scaler.fit(X_train)\n",
    "X_train = scaler.transform(X_train)\n",
    "X_test = scaler.transform(X_test)\n",
    "\n",
    "nor = Normalizer()\n",
    "nor.fit(X_train)\n",
    "X_train = nor.transform(X_train)\n",
    "X_test = nor.transform(X_test)\n",
    "\n",
    "mms = MinMaxScaler()\n",
    "mms.fit(X_train)\n",
    "X_train = mms.transform(X_train)\n",
    "X_test = mms.transform(X_test)\n"
   ]
  },
  {
   "cell_type": "code",
   "execution_count": 14,
   "metadata": {},
   "outputs": [],
   "source": [
    "cfg = {\n",
    "\"nb_epoch\" : 50,\n",
    "\"learning_rate\" : 0.001,\n",
    "\"early_stopping_patience\":50,\n",
    "\"train_batch_size\" : 16,\n",
    "\"val_batch_size\" : 16,\n",
    "\"test_batch_size\" : 16,\n",
    "}\n",
    "# dataloader\n",
    "train_dataset = nnDataset(X_train, y_train)\n",
    "val_dataset = nnDataset(X_test, y_test)\n",
    "test_dataset = nnDataset(X_test, y_test)"
   ]
  },
  {
   "cell_type": "code",
   "execution_count": 15,
   "metadata": {
    "scrolled": true
   },
   "outputs": [
    {
     "name": "stderr",
     "output_type": "stream",
     "text": [
      "\r",
      "  0%|          | 0/3150 [00:00<?, ?it/s]"
     ]
    },
    {
     "name": "stdout",
     "output_type": "stream",
     "text": [
      "starting train..\n"
     ]
    },
    {
     "name": "stderr",
     "output_type": "stream",
     "text": [
      "Loss-7.584629:   2%|▏         | 62/3150 [00:00<04:21, 11.83it/s] "
     ]
    },
    {
     "name": "stdout",
     "output_type": "stream",
     "text": [
      "Validation loss decreased (inf --> 6.777177).  Saving model ...\n"
     ]
    },
    {
     "name": "stderr",
     "output_type": "stream",
     "text": [
      "Loss-7.424331:   4%|▍         | 125/3150 [00:01<01:31, 33.12it/s] "
     ]
    },
    {
     "name": "stdout",
     "output_type": "stream",
     "text": [
      "Validation loss decreased (6.777177 --> 6.731715).  Saving model ...\n"
     ]
    },
    {
     "name": "stderr",
     "output_type": "stream",
     "text": [
      "Loss-8.025587:   6%|▌         | 188/3150 [00:02<01:03, 46.67it/s] "
     ]
    },
    {
     "name": "stdout",
     "output_type": "stream",
     "text": [
      "Validation loss decreased (6.731715 --> 6.669638).  Saving model ...\n"
     ]
    },
    {
     "name": "stderr",
     "output_type": "stream",
     "text": [
      "Loss-8.766467:   8%|▊         | 251/3150 [00:03<00:38, 75.20it/s] "
     ]
    },
    {
     "name": "stdout",
     "output_type": "stream",
     "text": [
      "Validation loss decreased (6.669638 --> 6.667773).  Saving model ...\n"
     ]
    },
    {
     "name": "stderr",
     "output_type": "stream",
     "text": [
      "Loss-6.012505:  10%|▉         | 314/3150 [00:05<00:38, 73.39it/s] "
     ]
    },
    {
     "name": "stdout",
     "output_type": "stream",
     "text": [
      "EarlyStopping counter: 1 out of 50\n"
     ]
    },
    {
     "name": "stderr",
     "output_type": "stream",
     "text": [
      "Loss-7.989116:  12%|█▏        | 377/3150 [00:06<01:05, 42.31it/s] "
     ]
    },
    {
     "name": "stdout",
     "output_type": "stream",
     "text": [
      "EarlyStopping counter: 2 out of 50\n"
     ]
    },
    {
     "name": "stderr",
     "output_type": "stream",
     "text": [
      "Loss-7.188081:  14%|█▍        | 440/3150 [00:07<00:47, 57.24it/s] "
     ]
    },
    {
     "name": "stdout",
     "output_type": "stream",
     "text": [
      "EarlyStopping counter: 3 out of 50\n"
     ]
    },
    {
     "name": "stderr",
     "output_type": "stream",
     "text": [
      "Loss-7.085527:  16%|█▌        | 503/3150 [00:08<00:39, 67.63it/s]"
     ]
    },
    {
     "name": "stdout",
     "output_type": "stream",
     "text": [
      "EarlyStopping counter: 4 out of 50\n"
     ]
    },
    {
     "name": "stderr",
     "output_type": "stream",
     "text": [
      "Loss-8.438059:  18%|█▊        | 566/3150 [00:09<00:38, 67.29it/s] "
     ]
    },
    {
     "name": "stdout",
     "output_type": "stream",
     "text": [
      "EarlyStopping counter: 5 out of 50\n"
     ]
    },
    {
     "name": "stderr",
     "output_type": "stream",
     "text": [
      "Loss-6.036867:  20%|█▉        | 629/3150 [00:10<00:28, 89.69it/s] "
     ]
    },
    {
     "name": "stdout",
     "output_type": "stream",
     "text": [
      "EarlyStopping counter: 6 out of 50\n"
     ]
    },
    {
     "name": "stderr",
     "output_type": "stream",
     "text": [
      "Loss-7.015404:  22%|██▏       | 692/3150 [00:11<00:33, 73.23it/s]"
     ]
    },
    {
     "name": "stdout",
     "output_type": "stream",
     "text": [
      "EarlyStopping counter: 7 out of 50\n"
     ]
    },
    {
     "name": "stderr",
     "output_type": "stream",
     "text": [
      "Loss-6.637016:  24%|██▍       | 755/3150 [00:12<00:30, 77.61it/s] "
     ]
    },
    {
     "name": "stdout",
     "output_type": "stream",
     "text": [
      "Validation loss decreased (6.667773 --> 6.663938).  Saving model ...\n"
     ]
    },
    {
     "name": "stderr",
     "output_type": "stream",
     "text": [
      "Loss-6.404926:  26%|██▌       | 818/3150 [00:15<00:37, 62.35it/s] "
     ]
    },
    {
     "name": "stdout",
     "output_type": "stream",
     "text": [
      "EarlyStopping counter: 1 out of 50\n"
     ]
    },
    {
     "name": "stderr",
     "output_type": "stream",
     "text": [
      "Loss-6.516427:  28%|██▊       | 881/3150 [00:16<00:38, 59.26it/s] "
     ]
    },
    {
     "name": "stdout",
     "output_type": "stream",
     "text": [
      "EarlyStopping counter: 2 out of 50\n"
     ]
    },
    {
     "name": "stderr",
     "output_type": "stream",
     "text": [
      "Loss-8.012411:  30%|██▉       | 944/3150 [00:17<00:27, 81.04it/s]"
     ]
    },
    {
     "name": "stdout",
     "output_type": "stream",
     "text": [
      "EarlyStopping counter: 3 out of 50\n"
     ]
    },
    {
     "name": "stderr",
     "output_type": "stream",
     "text": [
      "Loss-6.993033:  32%|███▏      | 1007/3150 [00:18<00:30, 70.89it/s]"
     ]
    },
    {
     "name": "stdout",
     "output_type": "stream",
     "text": [
      "EarlyStopping counter: 4 out of 50\n"
     ]
    },
    {
     "name": "stderr",
     "output_type": "stream",
     "text": [
      "Loss-5.948933:  34%|███▍      | 1070/3150 [00:19<00:25, 81.50it/s] "
     ]
    },
    {
     "name": "stdout",
     "output_type": "stream",
     "text": [
      "EarlyStopping counter: 5 out of 50\n"
     ]
    },
    {
     "name": "stderr",
     "output_type": "stream",
     "text": [
      "Loss-6.253549:  36%|███▌      | 1133/3150 [00:20<00:27, 73.69it/s] "
     ]
    },
    {
     "name": "stdout",
     "output_type": "stream",
     "text": [
      "EarlyStopping counter: 6 out of 50\n"
     ]
    },
    {
     "name": "stderr",
     "output_type": "stream",
     "text": [
      "Loss-7.996338:  38%|███▊      | 1196/3150 [00:21<00:23, 83.99it/s] "
     ]
    },
    {
     "name": "stdout",
     "output_type": "stream",
     "text": [
      "EarlyStopping counter: 7 out of 50\n"
     ]
    },
    {
     "name": "stderr",
     "output_type": "stream",
     "text": [
      "Loss-9.022904:  40%|███▉      | 1259/3150 [00:22<00:24, 76.85it/s] "
     ]
    },
    {
     "name": "stdout",
     "output_type": "stream",
     "text": [
      "EarlyStopping counter: 8 out of 50\n"
     ]
    },
    {
     "name": "stderr",
     "output_type": "stream",
     "text": [
      "Loss-4.974937:  42%|████▏     | 1323/3150 [00:23<00:23, 77.50it/s] "
     ]
    },
    {
     "name": "stdout",
     "output_type": "stream",
     "text": [
      "EarlyStopping counter: 9 out of 50\n"
     ]
    },
    {
     "name": "stderr",
     "output_type": "stream",
     "text": [
      "Loss-4.928540:  44%|████▍     | 1385/3150 [00:25<00:32, 54.10it/s] "
     ]
    },
    {
     "name": "stdout",
     "output_type": "stream",
     "text": [
      "EarlyStopping counter: 10 out of 50\n"
     ]
    },
    {
     "name": "stderr",
     "output_type": "stream",
     "text": [
      "Loss-8.183779:  46%|████▌     | 1449/3150 [00:26<00:30, 55.54it/s] "
     ]
    },
    {
     "name": "stdout",
     "output_type": "stream",
     "text": [
      "EarlyStopping counter: 11 out of 50\n"
     ]
    },
    {
     "name": "stderr",
     "output_type": "stream",
     "text": [
      "Loss-8.874380:  48%|████▊     | 1511/3150 [00:27<00:25, 63.13it/s] "
     ]
    },
    {
     "name": "stdout",
     "output_type": "stream",
     "text": [
      "EarlyStopping counter: 12 out of 50\n"
     ]
    },
    {
     "name": "stderr",
     "output_type": "stream",
     "text": [
      "Loss-9.777975:  50%|████▉     | 1574/3150 [00:28<00:21, 74.77it/s] "
     ]
    },
    {
     "name": "stdout",
     "output_type": "stream",
     "text": [
      "EarlyStopping counter: 13 out of 50\n"
     ]
    },
    {
     "name": "stderr",
     "output_type": "stream",
     "text": [
      "Loss-8.813234:  52%|█████▏    | 1637/3150 [00:29<00:22, 68.75it/s] "
     ]
    },
    {
     "name": "stdout",
     "output_type": "stream",
     "text": [
      "EarlyStopping counter: 14 out of 50\n"
     ]
    },
    {
     "name": "stderr",
     "output_type": "stream",
     "text": [
      "Loss-6.311609:  54%|█████▍    | 1700/3150 [00:30<00:16, 86.57it/s] "
     ]
    },
    {
     "name": "stdout",
     "output_type": "stream",
     "text": [
      "EarlyStopping counter: 15 out of 50\n"
     ]
    },
    {
     "name": "stderr",
     "output_type": "stream",
     "text": [
      "Loss-5.667402:  56%|█████▌    | 1763/3150 [00:32<00:20, 67.37it/s] "
     ]
    },
    {
     "name": "stdout",
     "output_type": "stream",
     "text": [
      "EarlyStopping counter: 16 out of 50\n"
     ]
    },
    {
     "name": "stderr",
     "output_type": "stream",
     "text": [
      "Loss-7.513260:  58%|█████▊    | 1826/3150 [00:34<00:24, 54.25it/s] "
     ]
    },
    {
     "name": "stdout",
     "output_type": "stream",
     "text": [
      "EarlyStopping counter: 17 out of 50\n"
     ]
    },
    {
     "name": "stderr",
     "output_type": "stream",
     "text": [
      "Loss-7.682336:  60%|█████▉    | 1889/3150 [00:35<00:19, 66.02it/s] "
     ]
    },
    {
     "name": "stdout",
     "output_type": "stream",
     "text": [
      "EarlyStopping counter: 18 out of 50\n"
     ]
    },
    {
     "name": "stderr",
     "output_type": "stream",
     "text": [
      "Loss-6.615381:  62%|██████▏   | 1952/3150 [00:36<00:17, 69.55it/s] "
     ]
    },
    {
     "name": "stdout",
     "output_type": "stream",
     "text": [
      "EarlyStopping counter: 19 out of 50\n"
     ]
    },
    {
     "name": "stderr",
     "output_type": "stream",
     "text": [
      "Loss-8.020869:  64%|██████▍   | 2015/3150 [00:38<00:21, 52.32it/s] "
     ]
    },
    {
     "name": "stdout",
     "output_type": "stream",
     "text": [
      "EarlyStopping counter: 20 out of 50\n"
     ]
    },
    {
     "name": "stderr",
     "output_type": "stream",
     "text": [
      "Loss-8.109633:  66%|██████▌   | 2079/3150 [00:39<00:14, 74.81it/s] "
     ]
    },
    {
     "name": "stdout",
     "output_type": "stream",
     "text": [
      "EarlyStopping counter: 21 out of 50\n"
     ]
    },
    {
     "name": "stderr",
     "output_type": "stream",
     "text": [
      "Loss-7.830003:  68%|██████▊   | 2141/3150 [00:40<00:14, 70.63it/s] "
     ]
    },
    {
     "name": "stdout",
     "output_type": "stream",
     "text": [
      "EarlyStopping counter: 22 out of 50\n"
     ]
    },
    {
     "name": "stderr",
     "output_type": "stream",
     "text": [
      "Loss-7.226658:  70%|██████▉   | 2204/3150 [00:41<00:14, 64.38it/s] "
     ]
    },
    {
     "name": "stdout",
     "output_type": "stream",
     "text": [
      "EarlyStopping counter: 23 out of 50\n"
     ]
    },
    {
     "name": "stderr",
     "output_type": "stream",
     "text": [
      "Loss-6.901405:  72%|███████▏  | 2267/3150 [00:43<00:12, 70.08it/s]"
     ]
    },
    {
     "name": "stdout",
     "output_type": "stream",
     "text": [
      "EarlyStopping counter: 24 out of 50\n"
     ]
    },
    {
     "name": "stderr",
     "output_type": "stream",
     "text": [
      "Loss-5.048285:  74%|███████▍  | 2330/3150 [00:44<00:15, 53.27it/s]"
     ]
    },
    {
     "name": "stdout",
     "output_type": "stream",
     "text": [
      "EarlyStopping counter: 25 out of 50\n"
     ]
    },
    {
     "name": "stderr",
     "output_type": "stream",
     "text": [
      "Loss-7.618155:  76%|███████▌  | 2393/3150 [00:45<00:10, 75.37it/s]"
     ]
    },
    {
     "name": "stdout",
     "output_type": "stream",
     "text": [
      "EarlyStopping counter: 26 out of 50\n"
     ]
    },
    {
     "name": "stderr",
     "output_type": "stream",
     "text": [
      "Loss-7.840139:  78%|███████▊  | 2456/3150 [00:46<00:10, 68.44it/s]"
     ]
    },
    {
     "name": "stdout",
     "output_type": "stream",
     "text": [
      "EarlyStopping counter: 27 out of 50\n"
     ]
    },
    {
     "name": "stderr",
     "output_type": "stream",
     "text": [
      "Loss-6.636086:  80%|███████▉  | 2519/3150 [00:47<00:08, 77.86it/s] "
     ]
    },
    {
     "name": "stdout",
     "output_type": "stream",
     "text": [
      "EarlyStopping counter: 28 out of 50\n"
     ]
    },
    {
     "name": "stderr",
     "output_type": "stream",
     "text": [
      "Loss-9.670439:  82%|████████▏ | 2582/3150 [00:48<00:07, 71.19it/s] "
     ]
    },
    {
     "name": "stdout",
     "output_type": "stream",
     "text": [
      "EarlyStopping counter: 29 out of 50\n"
     ]
    },
    {
     "name": "stderr",
     "output_type": "stream",
     "text": [
      "Loss-6.133427:  84%|████████▍ | 2645/3150 [00:49<00:07, 67.89it/s] "
     ]
    },
    {
     "name": "stdout",
     "output_type": "stream",
     "text": [
      "EarlyStopping counter: 30 out of 50\n"
     ]
    },
    {
     "name": "stderr",
     "output_type": "stream",
     "text": [
      "Loss-4.684378:  86%|████████▌ | 2708/3150 [00:50<00:05, 83.90it/s] "
     ]
    },
    {
     "name": "stdout",
     "output_type": "stream",
     "text": [
      "EarlyStopping counter: 31 out of 50\n"
     ]
    },
    {
     "name": "stderr",
     "output_type": "stream",
     "text": [
      "Loss-9.702276:  88%|████████▊ | 2771/3150 [00:52<00:05, 75.20it/s] "
     ]
    },
    {
     "name": "stdout",
     "output_type": "stream",
     "text": [
      "EarlyStopping counter: 32 out of 50\n"
     ]
    },
    {
     "name": "stderr",
     "output_type": "stream",
     "text": [
      "Loss-8.561055:  90%|████████▉ | 2834/3150 [00:54<00:06, 48.56it/s] "
     ]
    },
    {
     "name": "stdout",
     "output_type": "stream",
     "text": [
      "EarlyStopping counter: 33 out of 50\n"
     ]
    },
    {
     "name": "stderr",
     "output_type": "stream",
     "text": [
      "Loss-9.617238:  92%|█████████▏| 2897/3150 [00:55<00:03, 74.71it/s] "
     ]
    },
    {
     "name": "stdout",
     "output_type": "stream",
     "text": [
      "EarlyStopping counter: 34 out of 50\n"
     ]
    },
    {
     "name": "stderr",
     "output_type": "stream",
     "text": [
      "Loss-10.127536:  94%|█████████▍| 2960/3150 [00:56<00:02, 70.99it/s]"
     ]
    },
    {
     "name": "stdout",
     "output_type": "stream",
     "text": [
      "EarlyStopping counter: 35 out of 50\n"
     ]
    },
    {
     "name": "stderr",
     "output_type": "stream",
     "text": [
      "Loss-5.899642:  96%|█████████▌| 3023/3150 [00:57<00:01, 68.62it/s] "
     ]
    },
    {
     "name": "stdout",
     "output_type": "stream",
     "text": [
      "EarlyStopping counter: 36 out of 50\n"
     ]
    },
    {
     "name": "stderr",
     "output_type": "stream",
     "text": [
      "Loss-6.540275:  98%|█████████▊| 3086/3150 [00:58<00:00, 82.33it/s] "
     ]
    },
    {
     "name": "stdout",
     "output_type": "stream",
     "text": [
      "EarlyStopping counter: 37 out of 50\n"
     ]
    },
    {
     "name": "stderr",
     "output_type": "stream",
     "text": [
      "Loss-8.185004: 100%|██████████| 3150/3150 [00:59<00:00, 52.76it/s]\n",
      "  0%|                                                                        | 0/63 [00:00<?, ?it/s]"
     ]
    },
    {
     "name": "stdout",
     "output_type": "stream",
     "text": [
      "EarlyStopping counter: 38 out of 50\n"
     ]
    },
    {
     "name": "stderr",
     "output_type": "stream",
     "text": [
      "100%|██████████████████████████████████████████████████████████████| 63/63 [00:00<00:00, 155.11it/s]\n",
      "100%|██████████████████████████████████████████████████████████████| 49/49 [00:00<00:00, 124.25it/s]\n",
      "100%|██████████████████████████████████████████████████████████████| 49/49 [00:00<00:00, 127.58it/s]"
     ]
    },
    {
     "name": "stdout",
     "output_type": "stream",
     "text": [
      "MSE on testset: {'mse': 6.6668973}\n",
      "MAE on testset: {'mae': 2.2239234}\n"
     ]
    },
    {
     "name": "stderr",
     "output_type": "stream",
     "text": [
      "\n"
     ]
    }
   ],
   "source": [
    "bot = nntaskHelper(n_features=X_train.shape[1], num_labels=1)\n",
    "bot.train(cfg, train_dataset, val_dataset, test_dataset)"
   ]
  },
  {
   "cell_type": "code",
   "execution_count": null,
   "metadata": {},
   "outputs": [],
   "source": []
  },
  {
   "cell_type": "code",
   "execution_count": 13,
   "metadata": {
    "scrolled": false
   },
   "outputs": [
    {
     "ename": "NameError",
     "evalue": "name 'guesses' is not defined",
     "output_type": "error",
     "traceback": [
      "\u001b[0;31m---------------------------------------------------------------------------\u001b[0m",
      "\u001b[0;31mNameError\u001b[0m                                 Traceback (most recent call last)",
      "\u001b[0;32m<ipython-input-13-97de6a20b2ba>\u001b[0m in \u001b[0;36m<module>\u001b[0;34m\u001b[0m\n\u001b[1;32m     19\u001b[0m \u001b[0;34m\u001b[0m\u001b[0m\n\u001b[1;32m     20\u001b[0m         \u001b[0;32mif\u001b[0m \u001b[0my_test\u001b[0m\u001b[0;34m[\u001b[0m\u001b[0mi\u001b[0m\u001b[0;34m]\u001b[0m\u001b[0;34m==\u001b[0m\u001b[0mdist\u001b[0m\u001b[0;34m:\u001b[0m\u001b[0;34m\u001b[0m\u001b[0m\n\u001b[0;32m---> 21\u001b[0;31m             \u001b[0my_axis1\u001b[0m\u001b[0;34m.\u001b[0m\u001b[0mappend\u001b[0m\u001b[0;34m(\u001b[0m\u001b[0mguesses\u001b[0m\u001b[0;34m[\u001b[0m\u001b[0mi\u001b[0m\u001b[0;34m]\u001b[0m\u001b[0;34m)\u001b[0m\u001b[0;34m\u001b[0m\u001b[0m\n\u001b[0m\u001b[1;32m     22\u001b[0m             \u001b[0my_axis2\u001b[0m\u001b[0;34m.\u001b[0m\u001b[0mappend\u001b[0m\u001b[0;34m(\u001b[0m\u001b[0my_test\u001b[0m\u001b[0;34m[\u001b[0m\u001b[0mi\u001b[0m\u001b[0;34m]\u001b[0m\u001b[0;34m)\u001b[0m\u001b[0;34m\u001b[0m\u001b[0m\n\u001b[1;32m     23\u001b[0m     \u001b[0;31m#ln1, = plt.plot(list(range(len(y_axis1))), y_axis1, color=\"red\")\u001b[0m\u001b[0;34m\u001b[0m\u001b[0;34m\u001b[0m\u001b[0m\n",
      "\u001b[0;31mNameError\u001b[0m: name 'guesses' is not defined"
     ]
    }
   ],
   "source": [
    "dists = [4,3,2,1,0,-1,-2,-3,-4]\n",
    "c1 = [\"red\",\"maroon\", \"yellow\",\"green\",\"purple\",\"peru\",\"cyan\",\"pink\",\"slategray\",\"black\", \"orange\"]\n",
    "lbs = []\n",
    "\n",
    "fig = go.Figure()\n",
    "\n",
    "for d in range(len(dists)):\n",
    "    dist = dists[d]\n",
    "    if dist==0:\n",
    "        a=\"Normal\"\n",
    "    if dist<0:\n",
    "        a=f\"Shrink--{-1*dist} mm\"\n",
    "    if dist>0:\n",
    "        a=f\"Expand--{dist} mm\"\n",
    "    c = 0\n",
    "    y_axis1 = []\n",
    "    y_axis2 = []\n",
    "    for i in range(len(y_test)):\n",
    "\n",
    "        if y_test[i]==dist:\n",
    "            y_axis1.append(guesses[i])\n",
    "            y_axis2.append(y_test[i])\n",
    "    #ln1, = plt.plot(list(range(len(y_axis1))), y_axis1, color=\"red\")\n",
    "    random.shuffle(y_axis1)\n",
    "    trace = go.Scatter(x=list(range(len(y_axis1))), y=y_axis1, mode='markers', name=f\"{a}\")\n",
    "    fig.add_trace(trace)\n",
    "    #lbs.append(trace)\n",
    "fig.update_layout(\n",
    "    title=\"Regression of distance\",\n",
    "    xaxis_title=\"Samples\",\n",
    "    yaxis_title=\"Predicted value\",\n",
    "    font=dict(\n",
    "        #family=\"Courier New, monospace\",\n",
    "        size=13,\n",
    "        #color=\"RebeccaPurple\"\n",
    "    )\n",
    ")\n",
    "fig.show()\n",
    "\n",
    "#py.plot(lbs)\n",
    "#pio.write_image(fig,\"plotly.png\")\n"
   ]
  },
  {
   "cell_type": "code",
   "execution_count": null,
   "metadata": {},
   "outputs": [],
   "source": []
  },
  {
   "cell_type": "code",
   "execution_count": null,
   "metadata": {},
   "outputs": [],
   "source": []
  },
  {
   "cell_type": "code",
   "execution_count": null,
   "metadata": {},
   "outputs": [],
   "source": []
  }
 ],
 "metadata": {
  "kernelspec": {
   "display_name": "Python 3",
   "language": "python",
   "name": "python3"
  },
  "language_info": {
   "codemirror_mode": {
    "name": "ipython",
    "version": 3
   },
   "file_extension": ".py",
   "mimetype": "text/x-python",
   "name": "python",
   "nbconvert_exporter": "python",
   "pygments_lexer": "ipython3",
   "version": "3.6.6"
  }
 },
 "nbformat": 4,
 "nbformat_minor": 2
}
