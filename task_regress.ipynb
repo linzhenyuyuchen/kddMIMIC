{
 "cells": [
  {
   "cell_type": "code",
   "execution_count": 2,
   "metadata": {},
   "outputs": [
    {
     "data": {
      "text/html": [
       "        <script type=\"text/javascript\">\n",
       "        window.PlotlyConfig = {MathJaxConfig: 'local'};\n",
       "        if (window.MathJax) {MathJax.Hub.Config({SVG: {font: \"STIX-Web\"}});}\n",
       "        if (typeof require !== 'undefined') {\n",
       "        require.undef(\"plotly\");\n",
       "        requirejs.config({\n",
       "            paths: {\n",
       "                'plotly': ['https://cdn.plot.ly/plotly-latest.min']\n",
       "            }\n",
       "        });\n",
       "        require(['plotly'], function(Plotly) {\n",
       "            window._Plotly = Plotly;\n",
       "        });\n",
       "        }\n",
       "        </script>\n",
       "        "
      ]
     },
     "metadata": {},
     "output_type": "display_data"
    }
   ],
   "source": [
    "import yaml\n",
    "import pickle\n",
    "import random\n",
    "import numpy as np\n",
    "from matplotlib import pylab as plt\n",
    "import plotly\n",
    "import plotly.offline as py\n",
    "import plotly.express as px\n",
    "import plotly.graph_objects as go\n",
    "import plotly.io as pio\n",
    "plotly.offline.init_notebook_mode(connected=True)\n",
    "\n",
    "#from model.taskHelper import taskHelper\n",
    "from preprocessing.dataset import mDataset\n",
    "from preprocessing.featureSelector import featureSelector\n",
    "\n",
    "from model.taskHelper import *\n",
    "\n",
    "from sklearn.ensemble import RandomForestRegressor, RandomForestClassifier, AdaBoostClassifier, GradientBoostingRegressor, AdaBoostRegressor, BaggingRegressor\n",
    "from sklearn.neural_network import MLPClassifier\n",
    "\n",
    "from sklearn.preprocessing import StandardScaler, Normalizer, MinMaxScaler\n",
    "from sklearn.impute import SimpleImputer\n",
    "from sklearn.decomposition import PCA\n",
    "from sklearn.metrics import mean_squared_error, mean_absolute_error"
   ]
  },
  {
   "cell_type": "code",
   "execution_count": 3,
   "metadata": {},
   "outputs": [],
   "source": [
    "# Hyper-parameters\n",
    "cfg = yaml.load(open(\"./cfg.yaml\", \"r\"), Loader=yaml.FullLoader)\n",
    "class_names = cfg[\"class_names\"]\n",
    "feature_names = cfg[\"feature_names\"]\n",
    "feature_dir = cfg[\"feature_dir\"]"
   ]
  },
  {
   "cell_type": "code",
   "execution_count": 3,
   "metadata": {},
   "outputs": [],
   "source": [
    "# Configure\n",
    "show_feature_name = False\n",
    "feature_dir1 = \"/data1/lzy/3st/features_delta_exp_1mm/\"\n",
    "feature_dir2 = \"/data1/lzy/3st/features_delta_shr_1mm/\"\n",
    "class_names_train = {\n",
    "    \"C058_train_origin_delta\": 0,\n",
    "    \"C058_train_exp1_delta\": 1,\n",
    "    \"C058_train_shr1_delta\": -1,\n",
    "    \"C058_train_exp2_delta\": 2,\n",
    "    \"C058_train_shr2_delta\": -2,\n",
    "    \"C058_train_exp3_delta\": 3,\n",
    "    \"C058_train_shr3_delta\": -3,\n",
    "    \"C058_train_exp4_delta\": 4,\n",
    "    \"C058_train_shr4_delta\": -4,\n",
    "}\n",
    "class_names_test = {\n",
    "    \"C058_test_origin_delta\": 0,\n",
    "    \"C058_test_exp1_delta\": 1,\n",
    "    \"C058_test_shr1_delta\": -1,\n",
    "    \"C058_test_exp2_delta\": 2,\n",
    "    \"C058_test_shr2_delta\": -2,\n",
    "    \"C058_test_exp3_delta\": 3,\n",
    "    \"C058_test_shr3_delta\": -3,\n",
    "    \"C058_test_exp4_delta\": 4,\n",
    "    \"C058_test_shr4_delta\": -4,\n",
    "}"
   ]
  },
  {
   "cell_type": "code",
   "execution_count": 4,
   "metadata": {
    "scrolled": true
   },
   "outputs": [
    {
     "name": "stdout",
     "output_type": "stream",
     "text": [
      "get # 112  of  C058_train_origin_delta\n",
      "get # 112  of  C058_train_exp1_delta\n",
      "get # 112  of  C058_train_shr1_delta\n",
      "get # 112  of  C058_train_exp2_delta\n",
      "get # 112  of  C058_train_shr2_delta\n",
      "get # 112  of  C058_train_exp3_delta\n",
      "get # 112  of  C058_train_shr3_delta\n",
      "get # 112  of  C058_train_exp4_delta\n",
      "get # 112  of  C058_train_shr4_delta\n",
      "get # 112  of  C058_train_origin_delta\n",
      "get # 112  of  C058_train_exp1_delta\n",
      "get # 112  of  C058_train_shr1_delta\n",
      "get # 112  of  C058_train_exp2_delta\n",
      "get # 112  of  C058_train_shr2_delta\n",
      "get # 112  of  C058_train_exp3_delta\n",
      "get # 112  of  C058_train_shr3_delta\n",
      "get # 112  of  C058_train_exp4_delta\n",
      "get # 112  of  C058_train_shr4_delta\n",
      "get # 87  of  C058_test_origin_delta\n",
      "get # 87  of  C058_test_exp1_delta\n",
      "get # 87  of  C058_test_shr1_delta\n",
      "get # 87  of  C058_test_exp2_delta\n",
      "get # 87  of  C058_test_shr2_delta\n",
      "get # 87  of  C058_test_exp3_delta\n",
      "get # 87  of  C058_test_shr3_delta\n",
      "get # 87  of  C058_test_exp4_delta\n",
      "get # 87  of  C058_test_shr4_delta\n",
      "get # 87  of  C058_test_origin_delta\n",
      "get # 87  of  C058_test_exp1_delta\n",
      "get # 87  of  C058_test_shr1_delta\n",
      "get # 87  of  C058_test_exp2_delta\n",
      "get # 87  of  C058_test_shr2_delta\n",
      "get # 87  of  C058_test_exp3_delta\n",
      "get # 87  of  C058_test_shr3_delta\n",
      "get # 87  of  C058_test_exp4_delta\n",
      "get # 87  of  C058_test_shr4_delta\n",
      "(1008, 1800)\n",
      "(783, 1800)\n"
     ]
    }
   ],
   "source": [
    "myDataset = mDataset(feature_dir1, class_names_train, feature_names)\n",
    "X_train1, y_train1 = myDataset.getDataset()\n",
    "myDataset = mDataset(feature_dir2, class_names_train, feature_names)\n",
    "X_train2, y_train2 = myDataset.getDataset()\n",
    "\n",
    "myDataset = mDataset(feature_dir1, class_names_test, feature_names)\n",
    "X_test1, y_test1 = myDataset.getDataset()\n",
    "myDataset = mDataset(feature_dir2, class_names_test, feature_names)\n",
    "X_test2, y_test2 = myDataset.getDataset()\n",
    "\n",
    "X_train = np.concatenate([X_train1,X_train2],axis=1)\n",
    "y_train = y_train1\n",
    "X_test = np.concatenate([X_test1,X_test2],axis=1)\n",
    "y_test = y_test1\n",
    "\n",
    "print(X_train.shape)\n",
    "print(X_test.shape)\n",
    "\n",
    "imp = SimpleImputer(missing_values=np.nan, strategy='mean')\n",
    "imp.fit(X_train)\n",
    "X_train = imp.transform(X_train)\n",
    "X_test = imp.transform(X_test)\n",
    "\n",
    "\n",
    "scaler = StandardScaler()\n",
    "scaler.fit(X_train)\n",
    "X_train = scaler.transform(X_train)\n",
    "X_test = scaler.transform(X_test)\n",
    "\n",
    "nor = Normalizer()\n",
    "nor.fit(X_train)\n",
    "X_train = nor.transform(X_train)\n",
    "X_test = nor.transform(X_test)\n",
    "\n",
    "mms = MinMaxScaler()\n",
    "mms.fit(X_train)\n",
    "X_train = mms.transform(X_train)\n",
    "X_test = mms.transform(X_test)\n"
   ]
  },
  {
   "cell_type": "code",
   "execution_count": 5,
   "metadata": {},
   "outputs": [
    {
     "name": "stdout",
     "output_type": "stream",
     "text": [
      "BaggingRegressor MSE : 1.2829997445721582\n",
      "BaggingRegressor MAE : 0.6102171136653896\n"
     ]
    }
   ],
   "source": [
    "feature_name_all = []\n",
    "\n",
    "# model = RandomForestClassifier(n_estimators=10, max_depth=7, max_features='sqrt', random_state=0)\n",
    "# model.fit(X_train, y_train)\n",
    "# print(\"Classifier Accuracy :\", model.score(X_test, y_test))\n",
    "\n",
    "#model2 = BaggingRegressor(n_estimators=100)\n",
    "model2 = BaggingRegressor(n_estimators=50)\n",
    "model2.fit(X_train, y_train)\n",
    "guesses = model2.predict(X_test)\n",
    "error = mean_squared_error(y_test, guesses)\n",
    "error_mae = mean_absolute_error(y_test, guesses)\n",
    "print(\"BaggingRegressor MSE :\", error)\n",
    "print(\"BaggingRegressor MAE :\", error_mae)\n"
   ]
  },
  {
   "cell_type": "code",
   "execution_count": 6,
   "metadata": {
    "scrolled": false
   },
   "outputs": [
    {
     "data": {
      "application/vnd.plotly.v1+json": {
       "config": {
        "plotlyServerURL": "https://plot.ly"
       },
       "data": [
        {
         "mode": "markers",
         "name": "Expand--4 mm",
         "type": "scatter",
         "x": [
          0,
          1,
          2,
          3,
          4,
          5,
          6,
          7,
          8,
          9,
          10,
          11,
          12,
          13,
          14,
          15,
          16,
          17,
          18,
          19,
          20,
          21,
          22,
          23,
          24,
          25,
          26,
          27,
          28,
          29,
          30,
          31,
          32,
          33,
          34,
          35,
          36,
          37,
          38,
          39,
          40,
          41,
          42,
          43,
          44,
          45,
          46,
          47,
          48,
          49,
          50,
          51,
          52,
          53,
          54,
          55,
          56,
          57,
          58,
          59,
          60,
          61,
          62,
          63,
          64,
          65,
          66,
          67,
          68,
          69,
          70,
          71,
          72,
          73,
          74,
          75,
          76,
          77,
          78,
          79,
          80,
          81,
          82,
          83,
          84,
          85,
          86
         ],
         "y": [
          3.24,
          3.88,
          3.48,
          3.86,
          3.98,
          3.96,
          4,
          4,
          4,
          2.94,
          3.66,
          4,
          3.88,
          3.64,
          3.84,
          -2.98,
          3.96,
          3.56,
          3.82,
          3.64,
          4,
          3.12,
          4,
          3.22,
          3.86,
          3.68,
          -1.44,
          2.96,
          3.8,
          2.9,
          4,
          3.86,
          4,
          -2.2,
          4,
          1.58,
          2.84,
          3.26,
          3.52,
          4,
          3.08,
          0.74,
          3.7,
          2.66,
          4,
          3.62,
          4,
          3.82,
          1.86,
          3.62,
          3.5,
          4,
          3.48,
          3.36,
          3.98,
          4,
          4,
          3.84,
          3.9,
          4,
          3.9,
          3.92,
          1.2,
          3.74,
          4,
          3.62,
          3.64,
          4,
          3.86,
          4,
          2.48,
          4,
          2.14,
          3.84,
          3.1,
          4,
          3.88,
          3.9,
          4,
          3.1,
          4,
          2.02,
          3.9,
          4,
          3.2,
          3.86,
          4
         ]
        },
        {
         "mode": "markers",
         "name": "Expand--3 mm",
         "type": "scatter",
         "x": [
          0,
          1,
          2,
          3,
          4,
          5,
          6,
          7,
          8,
          9,
          10,
          11,
          12,
          13,
          14,
          15,
          16,
          17,
          18,
          19,
          20,
          21,
          22,
          23,
          24,
          25,
          26,
          27,
          28,
          29,
          30,
          31,
          32,
          33,
          34,
          35,
          36,
          37,
          38,
          39,
          40,
          41,
          42,
          43,
          44,
          45,
          46,
          47,
          48,
          49,
          50,
          51,
          52,
          53,
          54,
          55,
          56,
          57,
          58,
          59,
          60,
          61,
          62,
          63,
          64,
          65,
          66,
          67,
          68,
          69,
          70,
          71,
          72,
          73,
          74,
          75,
          76,
          77,
          78,
          79,
          80,
          81,
          82,
          83,
          84,
          85,
          86
         ],
         "y": [
          2.86,
          2.78,
          2.7,
          3.02,
          2.88,
          3,
          2.86,
          2.92,
          1.2,
          3,
          3,
          3,
          2.22,
          2.92,
          2.94,
          2.58,
          2.7,
          2.88,
          3,
          2.8,
          2.96,
          2.54,
          0.26,
          3.02,
          -0.36,
          3,
          2.48,
          2.9,
          3,
          1.48,
          2.98,
          3.02,
          2.18,
          2.48,
          -1.12,
          3,
          2.98,
          2.04,
          0.92,
          2.52,
          1.76,
          2.44,
          2.98,
          2.8,
          3.02,
          2.76,
          3,
          2.78,
          3,
          0.72,
          3,
          2.84,
          2.86,
          2.34,
          3.02,
          2.94,
          3.02,
          2.58,
          2.58,
          2.86,
          2.5,
          2.76,
          3,
          3,
          3,
          2.92,
          2.76,
          3,
          3,
          2.42,
          2.86,
          2.14,
          2.94,
          3.02,
          2.98,
          2.84,
          2.98,
          2.42,
          -1,
          2.32,
          2.8,
          2.92,
          2.8,
          2.68,
          2.94,
          3.02,
          2.86
         ]
        },
        {
         "mode": "markers",
         "name": "Expand--2 mm",
         "type": "scatter",
         "x": [
          0,
          1,
          2,
          3,
          4,
          5,
          6,
          7,
          8,
          9,
          10,
          11,
          12,
          13,
          14,
          15,
          16,
          17,
          18,
          19,
          20,
          21,
          22,
          23,
          24,
          25,
          26,
          27,
          28,
          29,
          30,
          31,
          32,
          33,
          34,
          35,
          36,
          37,
          38,
          39,
          40,
          41,
          42,
          43,
          44,
          45,
          46,
          47,
          48,
          49,
          50,
          51,
          52,
          53,
          54,
          55,
          56,
          57,
          58,
          59,
          60,
          61,
          62,
          63,
          64,
          65,
          66,
          67,
          68,
          69,
          70,
          71,
          72,
          73,
          74,
          75,
          76,
          77,
          78,
          79,
          80,
          81,
          82,
          83,
          84,
          85,
          86
         ],
         "y": [
          0.22,
          1.7,
          2.08,
          1.02,
          2.08,
          1.98,
          2,
          0.04,
          1.84,
          1.8,
          2.02,
          1.3,
          1.6,
          1.64,
          1.94,
          1.84,
          1.72,
          1.76,
          2.02,
          0.38,
          2,
          1.9,
          1.96,
          1.84,
          1.66,
          1.98,
          1.78,
          1.8,
          2.04,
          1.96,
          -1.12,
          0.22,
          1.72,
          1.16,
          1.36,
          2,
          1.56,
          2.12,
          1.96,
          1.9,
          2.12,
          1.96,
          -0.26,
          1.86,
          1.82,
          1.84,
          1.88,
          1.9,
          1.82,
          2.06,
          1.9,
          2.06,
          1.62,
          1.94,
          2.02,
          1.6,
          2.04,
          1.66,
          1.86,
          2.02,
          1.36,
          1.96,
          1.04,
          2.02,
          0.62,
          2.3,
          0.48,
          2.52,
          0.64,
          1.9,
          -0.64,
          2.06,
          1.98,
          1.46,
          1.6,
          1.96,
          2,
          1.98,
          1.9,
          0.12,
          2.06,
          1.82,
          2.32,
          2.02,
          1.8,
          1.46,
          1.8
         ]
        },
        {
         "mode": "markers",
         "name": "Expand--1 mm",
         "type": "scatter",
         "x": [
          0,
          1,
          2,
          3,
          4,
          5,
          6,
          7,
          8,
          9,
          10,
          11,
          12,
          13,
          14,
          15,
          16,
          17,
          18,
          19,
          20,
          21,
          22,
          23,
          24,
          25,
          26,
          27,
          28,
          29,
          30,
          31,
          32,
          33,
          34,
          35,
          36,
          37,
          38,
          39,
          40,
          41,
          42,
          43,
          44,
          45,
          46,
          47,
          48,
          49,
          50,
          51,
          52,
          53,
          54,
          55,
          56,
          57,
          58,
          59,
          60,
          61,
          62,
          63,
          64,
          65,
          66,
          67,
          68,
          69,
          70,
          71,
          72,
          73,
          74,
          75,
          76,
          77,
          78,
          79,
          80,
          81,
          82,
          83,
          84,
          85,
          86
         ],
         "y": [
          0.96,
          2.08,
          0.86,
          0.9,
          0.52,
          1.38,
          1.1,
          0.22,
          1.04,
          0.7,
          1.18,
          0.92,
          1.22,
          0.96,
          1.02,
          1.02,
          0.1,
          0.92,
          0.9,
          0.74,
          1.26,
          1.02,
          1,
          1.06,
          1.08,
          0.96,
          1,
          1.2,
          0.66,
          1.06,
          1.14,
          1.06,
          0.3,
          0.72,
          0.94,
          0.9,
          1.08,
          0.86,
          0.9,
          1.22,
          0.98,
          1.6,
          0.18,
          0.96,
          0.84,
          1,
          0.84,
          0.7,
          0.86,
          1.22,
          0.78,
          1.02,
          0.94,
          1.14,
          0.78,
          0.92,
          0.96,
          -0.54,
          0.4,
          1.1,
          -0.22,
          0.78,
          1.28,
          -0.38,
          1,
          1.02,
          0.98,
          0.36,
          1.82,
          0.02,
          1.04,
          0.88,
          0.96,
          0.78,
          1.26,
          1,
          0.8,
          0.54,
          0.92,
          1.04,
          0.56,
          -1.06,
          0.84,
          0.9,
          1.04,
          0.94,
          0.86
         ]
        },
        {
         "mode": "markers",
         "name": "Normal",
         "type": "scatter",
         "x": [
          0,
          1,
          2,
          3,
          4,
          5,
          6,
          7,
          8,
          9,
          10,
          11,
          12,
          13,
          14,
          15,
          16,
          17,
          18,
          19,
          20,
          21,
          22,
          23,
          24,
          25,
          26,
          27,
          28,
          29,
          30,
          31,
          32,
          33,
          34,
          35,
          36,
          37,
          38,
          39,
          40,
          41,
          42,
          43,
          44,
          45,
          46,
          47,
          48,
          49,
          50,
          51,
          52,
          53,
          54,
          55,
          56,
          57,
          58,
          59,
          60,
          61,
          62,
          63,
          64,
          65,
          66,
          67,
          68,
          69,
          70,
          71,
          72,
          73,
          74,
          75,
          76,
          77,
          78,
          79,
          80,
          81,
          82,
          83,
          84,
          85,
          86
         ],
         "y": [
          0.04,
          0.22,
          -0.14,
          0.1,
          0.12,
          -0.1,
          -0.3,
          0.04,
          -0.34,
          0.62,
          -0.2,
          0.02,
          0.08,
          0.24,
          0.96,
          0.32,
          0.52,
          -0.1,
          -0.48,
          -0.46,
          -0.02,
          -0.06,
          -0.04,
          0.16,
          0.1,
          -0.06,
          0.06,
          0.34,
          -0.22,
          -0.08,
          -0.12,
          -0.06,
          -0.18,
          0.02,
          -0.02,
          0.02,
          -0.14,
          -0.26,
          -0.7,
          0.08,
          0.02,
          -0.24,
          -0.42,
          0.12,
          -0.08,
          0.32,
          0.2,
          -0.16,
          0.18,
          0.02,
          -0.14,
          -0.08,
          0,
          -0.24,
          0.22,
          0,
          -0.04,
          -0.1,
          -1.22,
          -0.1,
          0.04,
          0.1,
          -0.08,
          0.06,
          0.02,
          0.14,
          -0.94,
          -1.48,
          0.04,
          0.12,
          -0.2,
          0.22,
          0,
          -0.14,
          -0.06,
          0.76,
          -0.02,
          -0.06,
          -0.26,
          -0.06,
          -0.28,
          0.26,
          0.24,
          -0.06,
          -1.5,
          -0.04,
          0.16
         ]
        },
        {
         "mode": "markers",
         "name": "Shrink--1 mm",
         "type": "scatter",
         "x": [
          0,
          1,
          2,
          3,
          4,
          5,
          6,
          7,
          8,
          9,
          10,
          11,
          12,
          13,
          14,
          15,
          16,
          17,
          18,
          19,
          20,
          21,
          22,
          23,
          24,
          25,
          26,
          27,
          28,
          29,
          30,
          31,
          32,
          33,
          34,
          35,
          36,
          37,
          38,
          39,
          40,
          41,
          42,
          43,
          44,
          45,
          46,
          47,
          48,
          49,
          50,
          51,
          52,
          53,
          54,
          55,
          56,
          57,
          58,
          59,
          60,
          61,
          62,
          63,
          64,
          65,
          66,
          67,
          68,
          69,
          70,
          71,
          72,
          73,
          74,
          75,
          76,
          77,
          78,
          79,
          80,
          81,
          82,
          83,
          84,
          85,
          86
         ],
         "y": [
          -1.04,
          -0.9,
          -0.02,
          -0.98,
          -0.86,
          -0.88,
          -0.78,
          -0.84,
          -0.12,
          -0.24,
          -0.7,
          -0.36,
          -0.92,
          0.14,
          -1,
          -0.78,
          -0.8,
          -0.88,
          -1.18,
          -0.68,
          -0.82,
          -0.58,
          -2.8,
          -0.9,
          -0.74,
          -1.04,
          -0.74,
          -0.92,
          -0.92,
          -0.6,
          -1.04,
          -1.48,
          -0.86,
          0.56,
          -1.26,
          0.02,
          -0.64,
          -0.5,
          1.3,
          -0.64,
          -0.94,
          -0.5,
          -0.64,
          -0.8,
          0.24,
          -2.68,
          -1.02,
          -0.98,
          -0.94,
          -1.04,
          -0.72,
          -1.14,
          -0.7,
          -0.92,
          -1.24,
          -0.52,
          -1.7,
          -0.58,
          -0.9,
          -0.9,
          -0.44,
          -1.04,
          -1,
          -0.4,
          -0.74,
          0,
          -0.42,
          -0.48,
          -0.9,
          -0.86,
          -0.82,
          -0.64,
          -0.34,
          -1.14,
          -0.82,
          -1,
          -1,
          0.9,
          -0.22,
          -2.08,
          -1.12,
          -0.94,
          -0.8,
          -0.28,
          -0.66,
          -0.82,
          -0.82
         ]
        },
        {
         "mode": "markers",
         "name": "Shrink--2 mm",
         "type": "scatter",
         "x": [
          0,
          1,
          2,
          3,
          4,
          5,
          6,
          7,
          8,
          9,
          10,
          11,
          12,
          13,
          14,
          15,
          16,
          17,
          18,
          19,
          20,
          21,
          22,
          23,
          24,
          25,
          26,
          27,
          28,
          29,
          30,
          31,
          32,
          33,
          34,
          35,
          36,
          37,
          38,
          39,
          40,
          41,
          42,
          43,
          44,
          45,
          46,
          47,
          48,
          49,
          50,
          51,
          52,
          53,
          54,
          55,
          56,
          57,
          58,
          59,
          60,
          61,
          62,
          63,
          64,
          65,
          66,
          67,
          68,
          69,
          70,
          71,
          72,
          73,
          74,
          75,
          76,
          77,
          78,
          79,
          80,
          81,
          82,
          83,
          84,
          85,
          86
         ],
         "y": [
          -1.78,
          -1.48,
          -2.1,
          1.26,
          -0.2,
          -0.7,
          -1.98,
          -1.88,
          -1.36,
          -0.6,
          -1.74,
          -2.02,
          -1.98,
          -1.04,
          -0.98,
          -1.62,
          -1.28,
          -2.02,
          -2.34,
          -1.9,
          -2.02,
          -1.6,
          -1.66,
          -0.88,
          -1.66,
          -2.24,
          -1.88,
          -1.66,
          -1.8,
          -0.32,
          -1.26,
          -0.04,
          -1.16,
          -1.54,
          -1.78,
          -1.74,
          0.22,
          -2.06,
          -1.34,
          -2.34,
          -0.46,
          -0.74,
          0.56,
          -1.88,
          -1.96,
          -1.62,
          -1.36,
          -0.2,
          -1.34,
          -1.16,
          -2.02,
          -2.02,
          -0.46,
          -1.76,
          -1.76,
          -1.66,
          -1.68,
          -0.74,
          -1.8,
          -1.46,
          -0.34,
          -2.02,
          -1.76,
          -1.72,
          0.18,
          -1.66,
          -1.96,
          -1.8,
          -1.1,
          -1.54,
          -1.18,
          -1.8,
          -1.44,
          1.06,
          -1.18,
          -1.98,
          -0.32,
          -1.04,
          2.3,
          -1.06,
          -2.26,
          -1.7,
          -1.6,
          -1.4,
          -1.02,
          -1.58,
          -1.9
         ]
        },
        {
         "mode": "markers",
         "name": "Shrink--3 mm",
         "type": "scatter",
         "x": [
          0,
          1,
          2,
          3,
          4,
          5,
          6,
          7,
          8,
          9,
          10,
          11,
          12,
          13,
          14,
          15,
          16,
          17,
          18,
          19,
          20,
          21,
          22,
          23,
          24,
          25,
          26,
          27,
          28,
          29,
          30,
          31,
          32,
          33,
          34,
          35,
          36,
          37,
          38,
          39,
          40,
          41,
          42,
          43,
          44,
          45,
          46,
          47,
          48,
          49,
          50,
          51,
          52,
          53,
          54,
          55,
          56,
          57,
          58,
          59,
          60,
          61,
          62,
          63,
          64,
          65,
          66,
          67,
          68,
          69,
          70,
          71,
          72,
          73,
          74,
          75,
          76,
          77,
          78,
          79,
          80,
          81,
          82,
          83,
          84,
          85,
          86
         ],
         "y": [
          -2.68,
          -2.54,
          -2.28,
          -1.72,
          -2.32,
          -2.84,
          -2.96,
          -2.66,
          -3.64,
          -1.74,
          -2.66,
          -3.02,
          -2.4,
          -2.1,
          -3,
          -2.42,
          -2.7,
          -2.02,
          -2.94,
          -2.7,
          -2.84,
          -3.02,
          -3,
          -2.58,
          0.46,
          -2.46,
          -3.04,
          -2.9,
          -2.62,
          -1.9,
          -2.18,
          0.86,
          -0.04,
          -2.6,
          -3.76,
          -2.54,
          -2.4,
          -2.18,
          -2.44,
          -2.4,
          -1.92,
          -2.92,
          -3.18,
          -2.4,
          -2.48,
          -2.62,
          -1.96,
          -1.92,
          0.34,
          -1.98,
          -2.94,
          -2.42,
          -2.34,
          -2.98,
          -1.24,
          -2.96,
          -2.96,
          -1.74,
          -2.9,
          -1.16,
          -2.92,
          -2.14,
          -3.2,
          -2.24,
          -2.52,
          -2.42,
          -2.24,
          1.34,
          1.8,
          -3.02,
          -1.96,
          -2.14,
          -2.68,
          -1.72,
          -2.74,
          -3.02,
          -2.72,
          -0.46,
          -2.64,
          -2.9,
          -2.88,
          -3.46,
          -0.52,
          -2.96,
          -2,
          -1.74,
          -2.9
         ]
        },
        {
         "mode": "markers",
         "name": "Shrink--4 mm",
         "type": "scatter",
         "x": [
          0,
          1,
          2,
          3,
          4,
          5,
          6,
          7,
          8,
          9,
          10,
          11,
          12,
          13,
          14,
          15,
          16,
          17,
          18,
          19,
          20,
          21,
          22,
          23,
          24,
          25,
          26,
          27,
          28,
          29,
          30,
          31,
          32,
          33,
          34,
          35,
          36,
          37,
          38,
          39,
          40,
          41,
          42,
          43,
          44,
          45,
          46,
          47,
          48,
          49,
          50,
          51,
          52,
          53,
          54,
          55,
          56,
          57,
          58,
          59,
          60,
          61,
          62,
          63,
          64,
          65,
          66,
          67,
          68,
          69,
          70,
          71,
          72,
          73,
          74,
          75,
          76,
          77,
          78,
          79,
          80,
          81,
          82,
          83,
          84,
          85,
          86
         ],
         "y": [
          -3.26,
          -2.52,
          -3.36,
          -2.82,
          -3.94,
          -3.74,
          -2.88,
          -3.94,
          -3.22,
          -3.86,
          -2.34,
          -3.42,
          0.54,
          -3.62,
          -2.9,
          1.48,
          -3.3,
          -3.06,
          -2.88,
          -1.82,
          -3.8,
          -2.3,
          2.12,
          -1.94,
          -3.8,
          -2.54,
          -3.2,
          -1.32,
          -2.16,
          -2.92,
          -2.42,
          -2.9,
          -2.82,
          -2.92,
          -3.04,
          -3.02,
          -1.92,
          -2.82,
          -0.24,
          -3.84,
          -3.14,
          -0.42,
          -2.58,
          -3.52,
          -3.16,
          -3.08,
          -0.32,
          -3.68,
          -3.68,
          -3.62,
          -2.84,
          -3.02,
          -3.14,
          -3.64,
          -3.62,
          -2.38,
          -3,
          -1.78,
          -3.26,
          1.58,
          -3.8,
          -4,
          -3.16,
          -3.1,
          -2.2,
          -1.72,
          -2.02,
          -1.68,
          0.46,
          -3.32,
          -2.7,
          -3.4,
          -2.96,
          -3.48,
          -3.62,
          -3.18,
          1.02,
          2.14,
          1.6,
          -1.44,
          -3.18,
          -3.52,
          -2.86,
          -2.8,
          0.52,
          -2.52,
          -2.6
         ]
        }
       ],
       "layout": {
        "font": {
         "size": 13
        },
        "template": {
         "data": {
          "bar": [
           {
            "error_x": {
             "color": "#2a3f5f"
            },
            "error_y": {
             "color": "#2a3f5f"
            },
            "marker": {
             "line": {
              "color": "#E5ECF6",
              "width": 0.5
             }
            },
            "type": "bar"
           }
          ],
          "barpolar": [
           {
            "marker": {
             "line": {
              "color": "#E5ECF6",
              "width": 0.5
             }
            },
            "type": "barpolar"
           }
          ],
          "carpet": [
           {
            "aaxis": {
             "endlinecolor": "#2a3f5f",
             "gridcolor": "white",
             "linecolor": "white",
             "minorgridcolor": "white",
             "startlinecolor": "#2a3f5f"
            },
            "baxis": {
             "endlinecolor": "#2a3f5f",
             "gridcolor": "white",
             "linecolor": "white",
             "minorgridcolor": "white",
             "startlinecolor": "#2a3f5f"
            },
            "type": "carpet"
           }
          ],
          "choropleth": [
           {
            "colorbar": {
             "outlinewidth": 0,
             "ticks": ""
            },
            "type": "choropleth"
           }
          ],
          "contour": [
           {
            "colorbar": {
             "outlinewidth": 0,
             "ticks": ""
            },
            "colorscale": [
             [
              0,
              "#0d0887"
             ],
             [
              0.1111111111111111,
              "#46039f"
             ],
             [
              0.2222222222222222,
              "#7201a8"
             ],
             [
              0.3333333333333333,
              "#9c179e"
             ],
             [
              0.4444444444444444,
              "#bd3786"
             ],
             [
              0.5555555555555556,
              "#d8576b"
             ],
             [
              0.6666666666666666,
              "#ed7953"
             ],
             [
              0.7777777777777778,
              "#fb9f3a"
             ],
             [
              0.8888888888888888,
              "#fdca26"
             ],
             [
              1,
              "#f0f921"
             ]
            ],
            "type": "contour"
           }
          ],
          "contourcarpet": [
           {
            "colorbar": {
             "outlinewidth": 0,
             "ticks": ""
            },
            "type": "contourcarpet"
           }
          ],
          "heatmap": [
           {
            "colorbar": {
             "outlinewidth": 0,
             "ticks": ""
            },
            "colorscale": [
             [
              0,
              "#0d0887"
             ],
             [
              0.1111111111111111,
              "#46039f"
             ],
             [
              0.2222222222222222,
              "#7201a8"
             ],
             [
              0.3333333333333333,
              "#9c179e"
             ],
             [
              0.4444444444444444,
              "#bd3786"
             ],
             [
              0.5555555555555556,
              "#d8576b"
             ],
             [
              0.6666666666666666,
              "#ed7953"
             ],
             [
              0.7777777777777778,
              "#fb9f3a"
             ],
             [
              0.8888888888888888,
              "#fdca26"
             ],
             [
              1,
              "#f0f921"
             ]
            ],
            "type": "heatmap"
           }
          ],
          "heatmapgl": [
           {
            "colorbar": {
             "outlinewidth": 0,
             "ticks": ""
            },
            "colorscale": [
             [
              0,
              "#0d0887"
             ],
             [
              0.1111111111111111,
              "#46039f"
             ],
             [
              0.2222222222222222,
              "#7201a8"
             ],
             [
              0.3333333333333333,
              "#9c179e"
             ],
             [
              0.4444444444444444,
              "#bd3786"
             ],
             [
              0.5555555555555556,
              "#d8576b"
             ],
             [
              0.6666666666666666,
              "#ed7953"
             ],
             [
              0.7777777777777778,
              "#fb9f3a"
             ],
             [
              0.8888888888888888,
              "#fdca26"
             ],
             [
              1,
              "#f0f921"
             ]
            ],
            "type": "heatmapgl"
           }
          ],
          "histogram": [
           {
            "marker": {
             "colorbar": {
              "outlinewidth": 0,
              "ticks": ""
             }
            },
            "type": "histogram"
           }
          ],
          "histogram2d": [
           {
            "colorbar": {
             "outlinewidth": 0,
             "ticks": ""
            },
            "colorscale": [
             [
              0,
              "#0d0887"
             ],
             [
              0.1111111111111111,
              "#46039f"
             ],
             [
              0.2222222222222222,
              "#7201a8"
             ],
             [
              0.3333333333333333,
              "#9c179e"
             ],
             [
              0.4444444444444444,
              "#bd3786"
             ],
             [
              0.5555555555555556,
              "#d8576b"
             ],
             [
              0.6666666666666666,
              "#ed7953"
             ],
             [
              0.7777777777777778,
              "#fb9f3a"
             ],
             [
              0.8888888888888888,
              "#fdca26"
             ],
             [
              1,
              "#f0f921"
             ]
            ],
            "type": "histogram2d"
           }
          ],
          "histogram2dcontour": [
           {
            "colorbar": {
             "outlinewidth": 0,
             "ticks": ""
            },
            "colorscale": [
             [
              0,
              "#0d0887"
             ],
             [
              0.1111111111111111,
              "#46039f"
             ],
             [
              0.2222222222222222,
              "#7201a8"
             ],
             [
              0.3333333333333333,
              "#9c179e"
             ],
             [
              0.4444444444444444,
              "#bd3786"
             ],
             [
              0.5555555555555556,
              "#d8576b"
             ],
             [
              0.6666666666666666,
              "#ed7953"
             ],
             [
              0.7777777777777778,
              "#fb9f3a"
             ],
             [
              0.8888888888888888,
              "#fdca26"
             ],
             [
              1,
              "#f0f921"
             ]
            ],
            "type": "histogram2dcontour"
           }
          ],
          "mesh3d": [
           {
            "colorbar": {
             "outlinewidth": 0,
             "ticks": ""
            },
            "type": "mesh3d"
           }
          ],
          "parcoords": [
           {
            "line": {
             "colorbar": {
              "outlinewidth": 0,
              "ticks": ""
             }
            },
            "type": "parcoords"
           }
          ],
          "pie": [
           {
            "automargin": true,
            "type": "pie"
           }
          ],
          "scatter": [
           {
            "marker": {
             "colorbar": {
              "outlinewidth": 0,
              "ticks": ""
             }
            },
            "type": "scatter"
           }
          ],
          "scatter3d": [
           {
            "line": {
             "colorbar": {
              "outlinewidth": 0,
              "ticks": ""
             }
            },
            "marker": {
             "colorbar": {
              "outlinewidth": 0,
              "ticks": ""
             }
            },
            "type": "scatter3d"
           }
          ],
          "scattercarpet": [
           {
            "marker": {
             "colorbar": {
              "outlinewidth": 0,
              "ticks": ""
             }
            },
            "type": "scattercarpet"
           }
          ],
          "scattergeo": [
           {
            "marker": {
             "colorbar": {
              "outlinewidth": 0,
              "ticks": ""
             }
            },
            "type": "scattergeo"
           }
          ],
          "scattergl": [
           {
            "marker": {
             "colorbar": {
              "outlinewidth": 0,
              "ticks": ""
             }
            },
            "type": "scattergl"
           }
          ],
          "scattermapbox": [
           {
            "marker": {
             "colorbar": {
              "outlinewidth": 0,
              "ticks": ""
             }
            },
            "type": "scattermapbox"
           }
          ],
          "scatterpolar": [
           {
            "marker": {
             "colorbar": {
              "outlinewidth": 0,
              "ticks": ""
             }
            },
            "type": "scatterpolar"
           }
          ],
          "scatterpolargl": [
           {
            "marker": {
             "colorbar": {
              "outlinewidth": 0,
              "ticks": ""
             }
            },
            "type": "scatterpolargl"
           }
          ],
          "scatterternary": [
           {
            "marker": {
             "colorbar": {
              "outlinewidth": 0,
              "ticks": ""
             }
            },
            "type": "scatterternary"
           }
          ],
          "surface": [
           {
            "colorbar": {
             "outlinewidth": 0,
             "ticks": ""
            },
            "colorscale": [
             [
              0,
              "#0d0887"
             ],
             [
              0.1111111111111111,
              "#46039f"
             ],
             [
              0.2222222222222222,
              "#7201a8"
             ],
             [
              0.3333333333333333,
              "#9c179e"
             ],
             [
              0.4444444444444444,
              "#bd3786"
             ],
             [
              0.5555555555555556,
              "#d8576b"
             ],
             [
              0.6666666666666666,
              "#ed7953"
             ],
             [
              0.7777777777777778,
              "#fb9f3a"
             ],
             [
              0.8888888888888888,
              "#fdca26"
             ],
             [
              1,
              "#f0f921"
             ]
            ],
            "type": "surface"
           }
          ],
          "table": [
           {
            "cells": {
             "fill": {
              "color": "#EBF0F8"
             },
             "line": {
              "color": "white"
             }
            },
            "header": {
             "fill": {
              "color": "#C8D4E3"
             },
             "line": {
              "color": "white"
             }
            },
            "type": "table"
           }
          ]
         },
         "layout": {
          "annotationdefaults": {
           "arrowcolor": "#2a3f5f",
           "arrowhead": 0,
           "arrowwidth": 1
          },
          "coloraxis": {
           "colorbar": {
            "outlinewidth": 0,
            "ticks": ""
           }
          },
          "colorscale": {
           "diverging": [
            [
             0,
             "#8e0152"
            ],
            [
             0.1,
             "#c51b7d"
            ],
            [
             0.2,
             "#de77ae"
            ],
            [
             0.3,
             "#f1b6da"
            ],
            [
             0.4,
             "#fde0ef"
            ],
            [
             0.5,
             "#f7f7f7"
            ],
            [
             0.6,
             "#e6f5d0"
            ],
            [
             0.7,
             "#b8e186"
            ],
            [
             0.8,
             "#7fbc41"
            ],
            [
             0.9,
             "#4d9221"
            ],
            [
             1,
             "#276419"
            ]
           ],
           "sequential": [
            [
             0,
             "#0d0887"
            ],
            [
             0.1111111111111111,
             "#46039f"
            ],
            [
             0.2222222222222222,
             "#7201a8"
            ],
            [
             0.3333333333333333,
             "#9c179e"
            ],
            [
             0.4444444444444444,
             "#bd3786"
            ],
            [
             0.5555555555555556,
             "#d8576b"
            ],
            [
             0.6666666666666666,
             "#ed7953"
            ],
            [
             0.7777777777777778,
             "#fb9f3a"
            ],
            [
             0.8888888888888888,
             "#fdca26"
            ],
            [
             1,
             "#f0f921"
            ]
           ],
           "sequentialminus": [
            [
             0,
             "#0d0887"
            ],
            [
             0.1111111111111111,
             "#46039f"
            ],
            [
             0.2222222222222222,
             "#7201a8"
            ],
            [
             0.3333333333333333,
             "#9c179e"
            ],
            [
             0.4444444444444444,
             "#bd3786"
            ],
            [
             0.5555555555555556,
             "#d8576b"
            ],
            [
             0.6666666666666666,
             "#ed7953"
            ],
            [
             0.7777777777777778,
             "#fb9f3a"
            ],
            [
             0.8888888888888888,
             "#fdca26"
            ],
            [
             1,
             "#f0f921"
            ]
           ]
          },
          "colorway": [
           "#636efa",
           "#EF553B",
           "#00cc96",
           "#ab63fa",
           "#FFA15A",
           "#19d3f3",
           "#FF6692",
           "#B6E880",
           "#FF97FF",
           "#FECB52"
          ],
          "font": {
           "color": "#2a3f5f"
          },
          "geo": {
           "bgcolor": "white",
           "lakecolor": "white",
           "landcolor": "#E5ECF6",
           "showlakes": true,
           "showland": true,
           "subunitcolor": "white"
          },
          "hoverlabel": {
           "align": "left"
          },
          "hovermode": "closest",
          "mapbox": {
           "style": "light"
          },
          "paper_bgcolor": "white",
          "plot_bgcolor": "#E5ECF6",
          "polar": {
           "angularaxis": {
            "gridcolor": "white",
            "linecolor": "white",
            "ticks": ""
           },
           "bgcolor": "#E5ECF6",
           "radialaxis": {
            "gridcolor": "white",
            "linecolor": "white",
            "ticks": ""
           }
          },
          "scene": {
           "xaxis": {
            "backgroundcolor": "#E5ECF6",
            "gridcolor": "white",
            "gridwidth": 2,
            "linecolor": "white",
            "showbackground": true,
            "ticks": "",
            "zerolinecolor": "white"
           },
           "yaxis": {
            "backgroundcolor": "#E5ECF6",
            "gridcolor": "white",
            "gridwidth": 2,
            "linecolor": "white",
            "showbackground": true,
            "ticks": "",
            "zerolinecolor": "white"
           },
           "zaxis": {
            "backgroundcolor": "#E5ECF6",
            "gridcolor": "white",
            "gridwidth": 2,
            "linecolor": "white",
            "showbackground": true,
            "ticks": "",
            "zerolinecolor": "white"
           }
          },
          "shapedefaults": {
           "line": {
            "color": "#2a3f5f"
           }
          },
          "ternary": {
           "aaxis": {
            "gridcolor": "white",
            "linecolor": "white",
            "ticks": ""
           },
           "baxis": {
            "gridcolor": "white",
            "linecolor": "white",
            "ticks": ""
           },
           "bgcolor": "#E5ECF6",
           "caxis": {
            "gridcolor": "white",
            "linecolor": "white",
            "ticks": ""
           }
          },
          "title": {
           "x": 0.05
          },
          "xaxis": {
           "automargin": true,
           "gridcolor": "white",
           "linecolor": "white",
           "ticks": "",
           "title": {
            "standoff": 15
           },
           "zerolinecolor": "white",
           "zerolinewidth": 2
          },
          "yaxis": {
           "automargin": true,
           "gridcolor": "white",
           "linecolor": "white",
           "ticks": "",
           "title": {
            "standoff": 15
           },
           "zerolinecolor": "white",
           "zerolinewidth": 2
          }
         }
        },
        "title": {
         "text": "Regression of distance"
        },
        "xaxis": {
         "title": {
          "text": "Samples"
         }
        },
        "yaxis": {
         "title": {
          "text": "Predicted value"
         }
        }
       }
      },
      "text/html": [
       "<div>\n",
       "        \n",
       "        \n",
       "            <div id=\"7998b0b1-2aaa-4a33-b7df-13a9e38bd8de\" class=\"plotly-graph-div\" style=\"height:525px; width:100%;\"></div>\n",
       "            <script type=\"text/javascript\">\n",
       "                require([\"plotly\"], function(Plotly) {\n",
       "                    window.PLOTLYENV=window.PLOTLYENV || {};\n",
       "                    \n",
       "                if (document.getElementById(\"7998b0b1-2aaa-4a33-b7df-13a9e38bd8de\")) {\n",
       "                    Plotly.newPlot(\n",
       "                        '7998b0b1-2aaa-4a33-b7df-13a9e38bd8de',\n",
       "                        [{\"mode\": \"markers\", \"name\": \"Expand--4 mm\", \"type\": \"scatter\", \"x\": [0, 1, 2, 3, 4, 5, 6, 7, 8, 9, 10, 11, 12, 13, 14, 15, 16, 17, 18, 19, 20, 21, 22, 23, 24, 25, 26, 27, 28, 29, 30, 31, 32, 33, 34, 35, 36, 37, 38, 39, 40, 41, 42, 43, 44, 45, 46, 47, 48, 49, 50, 51, 52, 53, 54, 55, 56, 57, 58, 59, 60, 61, 62, 63, 64, 65, 66, 67, 68, 69, 70, 71, 72, 73, 74, 75, 76, 77, 78, 79, 80, 81, 82, 83, 84, 85, 86], \"y\": [3.24, 3.88, 3.48, 3.86, 3.98, 3.96, 4.0, 4.0, 4.0, 2.94, 3.66, 4.0, 3.88, 3.64, 3.84, -2.98, 3.96, 3.56, 3.82, 3.64, 4.0, 3.12, 4.0, 3.22, 3.86, 3.68, -1.44, 2.96, 3.8, 2.9, 4.0, 3.86, 4.0, -2.2, 4.0, 1.58, 2.84, 3.26, 3.52, 4.0, 3.08, 0.74, 3.7, 2.66, 4.0, 3.62, 4.0, 3.82, 1.86, 3.62, 3.5, 4.0, 3.48, 3.36, 3.98, 4.0, 4.0, 3.84, 3.9, 4.0, 3.9, 3.92, 1.2, 3.74, 4.0, 3.62, 3.64, 4.0, 3.86, 4.0, 2.48, 4.0, 2.14, 3.84, 3.1, 4.0, 3.88, 3.9, 4.0, 3.1, 4.0, 2.02, 3.9, 4.0, 3.2, 3.86, 4.0]}, {\"mode\": \"markers\", \"name\": \"Expand--3 mm\", \"type\": \"scatter\", \"x\": [0, 1, 2, 3, 4, 5, 6, 7, 8, 9, 10, 11, 12, 13, 14, 15, 16, 17, 18, 19, 20, 21, 22, 23, 24, 25, 26, 27, 28, 29, 30, 31, 32, 33, 34, 35, 36, 37, 38, 39, 40, 41, 42, 43, 44, 45, 46, 47, 48, 49, 50, 51, 52, 53, 54, 55, 56, 57, 58, 59, 60, 61, 62, 63, 64, 65, 66, 67, 68, 69, 70, 71, 72, 73, 74, 75, 76, 77, 78, 79, 80, 81, 82, 83, 84, 85, 86], \"y\": [2.86, 2.78, 2.7, 3.02, 2.88, 3.0, 2.86, 2.92, 1.2, 3.0, 3.0, 3.0, 2.22, 2.92, 2.94, 2.58, 2.7, 2.88, 3.0, 2.8, 2.96, 2.54, 0.26, 3.02, -0.36, 3.0, 2.48, 2.9, 3.0, 1.48, 2.98, 3.02, 2.18, 2.48, -1.12, 3.0, 2.98, 2.04, 0.92, 2.52, 1.76, 2.44, 2.98, 2.8, 3.02, 2.76, 3.0, 2.78, 3.0, 0.72, 3.0, 2.84, 2.86, 2.34, 3.02, 2.94, 3.02, 2.58, 2.58, 2.86, 2.5, 2.76, 3.0, 3.0, 3.0, 2.92, 2.76, 3.0, 3.0, 2.42, 2.86, 2.14, 2.94, 3.02, 2.98, 2.84, 2.98, 2.42, -1.0, 2.32, 2.8, 2.92, 2.8, 2.68, 2.94, 3.02, 2.86]}, {\"mode\": \"markers\", \"name\": \"Expand--2 mm\", \"type\": \"scatter\", \"x\": [0, 1, 2, 3, 4, 5, 6, 7, 8, 9, 10, 11, 12, 13, 14, 15, 16, 17, 18, 19, 20, 21, 22, 23, 24, 25, 26, 27, 28, 29, 30, 31, 32, 33, 34, 35, 36, 37, 38, 39, 40, 41, 42, 43, 44, 45, 46, 47, 48, 49, 50, 51, 52, 53, 54, 55, 56, 57, 58, 59, 60, 61, 62, 63, 64, 65, 66, 67, 68, 69, 70, 71, 72, 73, 74, 75, 76, 77, 78, 79, 80, 81, 82, 83, 84, 85, 86], \"y\": [0.22, 1.7, 2.08, 1.02, 2.08, 1.98, 2.0, 0.04, 1.84, 1.8, 2.02, 1.3, 1.6, 1.64, 1.94, 1.84, 1.72, 1.76, 2.02, 0.38, 2.0, 1.9, 1.96, 1.84, 1.66, 1.98, 1.78, 1.8, 2.04, 1.96, -1.12, 0.22, 1.72, 1.16, 1.36, 2.0, 1.56, 2.12, 1.96, 1.9, 2.12, 1.96, -0.26, 1.86, 1.82, 1.84, 1.88, 1.9, 1.82, 2.06, 1.9, 2.06, 1.62, 1.94, 2.02, 1.6, 2.04, 1.66, 1.86, 2.02, 1.36, 1.96, 1.04, 2.02, 0.62, 2.3, 0.48, 2.52, 0.64, 1.9, -0.64, 2.06, 1.98, 1.46, 1.6, 1.96, 2.0, 1.98, 1.9, 0.12, 2.06, 1.82, 2.32, 2.02, 1.8, 1.46, 1.8]}, {\"mode\": \"markers\", \"name\": \"Expand--1 mm\", \"type\": \"scatter\", \"x\": [0, 1, 2, 3, 4, 5, 6, 7, 8, 9, 10, 11, 12, 13, 14, 15, 16, 17, 18, 19, 20, 21, 22, 23, 24, 25, 26, 27, 28, 29, 30, 31, 32, 33, 34, 35, 36, 37, 38, 39, 40, 41, 42, 43, 44, 45, 46, 47, 48, 49, 50, 51, 52, 53, 54, 55, 56, 57, 58, 59, 60, 61, 62, 63, 64, 65, 66, 67, 68, 69, 70, 71, 72, 73, 74, 75, 76, 77, 78, 79, 80, 81, 82, 83, 84, 85, 86], \"y\": [0.96, 2.08, 0.86, 0.9, 0.52, 1.38, 1.1, 0.22, 1.04, 0.7, 1.18, 0.92, 1.22, 0.96, 1.02, 1.02, 0.1, 0.92, 0.9, 0.74, 1.26, 1.02, 1.0, 1.06, 1.08, 0.96, 1.0, 1.2, 0.66, 1.06, 1.14, 1.06, 0.3, 0.72, 0.94, 0.9, 1.08, 0.86, 0.9, 1.22, 0.98, 1.6, 0.18, 0.96, 0.84, 1.0, 0.84, 0.7, 0.86, 1.22, 0.78, 1.02, 0.94, 1.14, 0.78, 0.92, 0.96, -0.54, 0.4, 1.1, -0.22, 0.78, 1.28, -0.38, 1.0, 1.02, 0.98, 0.36, 1.82, 0.02, 1.04, 0.88, 0.96, 0.78, 1.26, 1.0, 0.8, 0.54, 0.92, 1.04, 0.56, -1.06, 0.84, 0.9, 1.04, 0.94, 0.86]}, {\"mode\": \"markers\", \"name\": \"Normal\", \"type\": \"scatter\", \"x\": [0, 1, 2, 3, 4, 5, 6, 7, 8, 9, 10, 11, 12, 13, 14, 15, 16, 17, 18, 19, 20, 21, 22, 23, 24, 25, 26, 27, 28, 29, 30, 31, 32, 33, 34, 35, 36, 37, 38, 39, 40, 41, 42, 43, 44, 45, 46, 47, 48, 49, 50, 51, 52, 53, 54, 55, 56, 57, 58, 59, 60, 61, 62, 63, 64, 65, 66, 67, 68, 69, 70, 71, 72, 73, 74, 75, 76, 77, 78, 79, 80, 81, 82, 83, 84, 85, 86], \"y\": [0.04, 0.22, -0.14, 0.1, 0.12, -0.1, -0.3, 0.04, -0.34, 0.62, -0.2, 0.02, 0.08, 0.24, 0.96, 0.32, 0.52, -0.1, -0.48, -0.46, -0.02, -0.06, -0.04, 0.16, 0.1, -0.06, 0.06, 0.34, -0.22, -0.08, -0.12, -0.06, -0.18, 0.02, -0.02, 0.02, -0.14, -0.26, -0.7, 0.08, 0.02, -0.24, -0.42, 0.12, -0.08, 0.32, 0.2, -0.16, 0.18, 0.02, -0.14, -0.08, 0.0, -0.24, 0.22, 0.0, -0.04, -0.1, -1.22, -0.1, 0.04, 0.1, -0.08, 0.06, 0.02, 0.14, -0.94, -1.48, 0.04, 0.12, -0.2, 0.22, 0.0, -0.14, -0.06, 0.76, -0.02, -0.06, -0.26, -0.06, -0.28, 0.26, 0.24, -0.06, -1.5, -0.04, 0.16]}, {\"mode\": \"markers\", \"name\": \"Shrink--1 mm\", \"type\": \"scatter\", \"x\": [0, 1, 2, 3, 4, 5, 6, 7, 8, 9, 10, 11, 12, 13, 14, 15, 16, 17, 18, 19, 20, 21, 22, 23, 24, 25, 26, 27, 28, 29, 30, 31, 32, 33, 34, 35, 36, 37, 38, 39, 40, 41, 42, 43, 44, 45, 46, 47, 48, 49, 50, 51, 52, 53, 54, 55, 56, 57, 58, 59, 60, 61, 62, 63, 64, 65, 66, 67, 68, 69, 70, 71, 72, 73, 74, 75, 76, 77, 78, 79, 80, 81, 82, 83, 84, 85, 86], \"y\": [-1.04, -0.9, -0.02, -0.98, -0.86, -0.88, -0.78, -0.84, -0.12, -0.24, -0.7, -0.36, -0.92, 0.14, -1.0, -0.78, -0.8, -0.88, -1.18, -0.68, -0.82, -0.58, -2.8, -0.9, -0.74, -1.04, -0.74, -0.92, -0.92, -0.6, -1.04, -1.48, -0.86, 0.56, -1.26, 0.02, -0.64, -0.5, 1.3, -0.64, -0.94, -0.5, -0.64, -0.8, 0.24, -2.68, -1.02, -0.98, -0.94, -1.04, -0.72, -1.14, -0.7, -0.92, -1.24, -0.52, -1.7, -0.58, -0.9, -0.9, -0.44, -1.04, -1.0, -0.4, -0.74, 0.0, -0.42, -0.48, -0.9, -0.86, -0.82, -0.64, -0.34, -1.14, -0.82, -1.0, -1.0, 0.9, -0.22, -2.08, -1.12, -0.94, -0.8, -0.28, -0.66, -0.82, -0.82]}, {\"mode\": \"markers\", \"name\": \"Shrink--2 mm\", \"type\": \"scatter\", \"x\": [0, 1, 2, 3, 4, 5, 6, 7, 8, 9, 10, 11, 12, 13, 14, 15, 16, 17, 18, 19, 20, 21, 22, 23, 24, 25, 26, 27, 28, 29, 30, 31, 32, 33, 34, 35, 36, 37, 38, 39, 40, 41, 42, 43, 44, 45, 46, 47, 48, 49, 50, 51, 52, 53, 54, 55, 56, 57, 58, 59, 60, 61, 62, 63, 64, 65, 66, 67, 68, 69, 70, 71, 72, 73, 74, 75, 76, 77, 78, 79, 80, 81, 82, 83, 84, 85, 86], \"y\": [-1.78, -1.48, -2.1, 1.26, -0.2, -0.7, -1.98, -1.88, -1.36, -0.6, -1.74, -2.02, -1.98, -1.04, -0.98, -1.62, -1.28, -2.02, -2.34, -1.9, -2.02, -1.6, -1.66, -0.88, -1.66, -2.24, -1.88, -1.66, -1.8, -0.32, -1.26, -0.04, -1.16, -1.54, -1.78, -1.74, 0.22, -2.06, -1.34, -2.34, -0.46, -0.74, 0.56, -1.88, -1.96, -1.62, -1.36, -0.2, -1.34, -1.16, -2.02, -2.02, -0.46, -1.76, -1.76, -1.66, -1.68, -0.74, -1.8, -1.46, -0.34, -2.02, -1.76, -1.72, 0.18, -1.66, -1.96, -1.8, -1.1, -1.54, -1.18, -1.8, -1.44, 1.06, -1.18, -1.98, -0.32, -1.04, 2.3, -1.06, -2.26, -1.7, -1.6, -1.4, -1.02, -1.58, -1.9]}, {\"mode\": \"markers\", \"name\": \"Shrink--3 mm\", \"type\": \"scatter\", \"x\": [0, 1, 2, 3, 4, 5, 6, 7, 8, 9, 10, 11, 12, 13, 14, 15, 16, 17, 18, 19, 20, 21, 22, 23, 24, 25, 26, 27, 28, 29, 30, 31, 32, 33, 34, 35, 36, 37, 38, 39, 40, 41, 42, 43, 44, 45, 46, 47, 48, 49, 50, 51, 52, 53, 54, 55, 56, 57, 58, 59, 60, 61, 62, 63, 64, 65, 66, 67, 68, 69, 70, 71, 72, 73, 74, 75, 76, 77, 78, 79, 80, 81, 82, 83, 84, 85, 86], \"y\": [-2.68, -2.54, -2.28, -1.72, -2.32, -2.84, -2.96, -2.66, -3.64, -1.74, -2.66, -3.02, -2.4, -2.1, -3.0, -2.42, -2.7, -2.02, -2.94, -2.7, -2.84, -3.02, -3.0, -2.58, 0.46, -2.46, -3.04, -2.9, -2.62, -1.9, -2.18, 0.86, -0.04, -2.6, -3.76, -2.54, -2.4, -2.18, -2.44, -2.4, -1.92, -2.92, -3.18, -2.4, -2.48, -2.62, -1.96, -1.92, 0.34, -1.98, -2.94, -2.42, -2.34, -2.98, -1.24, -2.96, -2.96, -1.74, -2.9, -1.16, -2.92, -2.14, -3.2, -2.24, -2.52, -2.42, -2.24, 1.34, 1.8, -3.02, -1.96, -2.14, -2.68, -1.72, -2.74, -3.02, -2.72, -0.46, -2.64, -2.9, -2.88, -3.46, -0.52, -2.96, -2.0, -1.74, -2.9]}, {\"mode\": \"markers\", \"name\": \"Shrink--4 mm\", \"type\": \"scatter\", \"x\": [0, 1, 2, 3, 4, 5, 6, 7, 8, 9, 10, 11, 12, 13, 14, 15, 16, 17, 18, 19, 20, 21, 22, 23, 24, 25, 26, 27, 28, 29, 30, 31, 32, 33, 34, 35, 36, 37, 38, 39, 40, 41, 42, 43, 44, 45, 46, 47, 48, 49, 50, 51, 52, 53, 54, 55, 56, 57, 58, 59, 60, 61, 62, 63, 64, 65, 66, 67, 68, 69, 70, 71, 72, 73, 74, 75, 76, 77, 78, 79, 80, 81, 82, 83, 84, 85, 86], \"y\": [-3.26, -2.52, -3.36, -2.82, -3.94, -3.74, -2.88, -3.94, -3.22, -3.86, -2.34, -3.42, 0.54, -3.62, -2.9, 1.48, -3.3, -3.06, -2.88, -1.82, -3.8, -2.3, 2.12, -1.94, -3.8, -2.54, -3.2, -1.32, -2.16, -2.92, -2.42, -2.9, -2.82, -2.92, -3.04, -3.02, -1.92, -2.82, -0.24, -3.84, -3.14, -0.42, -2.58, -3.52, -3.16, -3.08, -0.32, -3.68, -3.68, -3.62, -2.84, -3.02, -3.14, -3.64, -3.62, -2.38, -3.0, -1.78, -3.26, 1.58, -3.8, -4.0, -3.16, -3.1, -2.2, -1.72, -2.02, -1.68, 0.46, -3.32, -2.7, -3.4, -2.96, -3.48, -3.62, -3.18, 1.02, 2.14, 1.6, -1.44, -3.18, -3.52, -2.86, -2.8, 0.52, -2.52, -2.6]}],\n",
       "                        {\"font\": {\"size\": 13}, \"template\": {\"data\": {\"bar\": [{\"error_x\": {\"color\": \"#2a3f5f\"}, \"error_y\": {\"color\": \"#2a3f5f\"}, \"marker\": {\"line\": {\"color\": \"#E5ECF6\", \"width\": 0.5}}, \"type\": \"bar\"}], \"barpolar\": [{\"marker\": {\"line\": {\"color\": \"#E5ECF6\", \"width\": 0.5}}, \"type\": \"barpolar\"}], \"carpet\": [{\"aaxis\": {\"endlinecolor\": \"#2a3f5f\", \"gridcolor\": \"white\", \"linecolor\": \"white\", \"minorgridcolor\": \"white\", \"startlinecolor\": \"#2a3f5f\"}, \"baxis\": {\"endlinecolor\": \"#2a3f5f\", \"gridcolor\": \"white\", \"linecolor\": \"white\", \"minorgridcolor\": \"white\", \"startlinecolor\": \"#2a3f5f\"}, \"type\": \"carpet\"}], \"choropleth\": [{\"colorbar\": {\"outlinewidth\": 0, \"ticks\": \"\"}, \"type\": \"choropleth\"}], \"contour\": [{\"colorbar\": {\"outlinewidth\": 0, \"ticks\": \"\"}, \"colorscale\": [[0.0, \"#0d0887\"], [0.1111111111111111, \"#46039f\"], [0.2222222222222222, \"#7201a8\"], [0.3333333333333333, \"#9c179e\"], [0.4444444444444444, \"#bd3786\"], [0.5555555555555556, \"#d8576b\"], [0.6666666666666666, \"#ed7953\"], [0.7777777777777778, \"#fb9f3a\"], [0.8888888888888888, \"#fdca26\"], [1.0, \"#f0f921\"]], \"type\": \"contour\"}], \"contourcarpet\": [{\"colorbar\": {\"outlinewidth\": 0, \"ticks\": \"\"}, \"type\": \"contourcarpet\"}], \"heatmap\": [{\"colorbar\": {\"outlinewidth\": 0, \"ticks\": \"\"}, \"colorscale\": [[0.0, \"#0d0887\"], [0.1111111111111111, \"#46039f\"], [0.2222222222222222, \"#7201a8\"], [0.3333333333333333, \"#9c179e\"], [0.4444444444444444, \"#bd3786\"], [0.5555555555555556, \"#d8576b\"], [0.6666666666666666, \"#ed7953\"], [0.7777777777777778, \"#fb9f3a\"], [0.8888888888888888, \"#fdca26\"], [1.0, \"#f0f921\"]], \"type\": \"heatmap\"}], \"heatmapgl\": [{\"colorbar\": {\"outlinewidth\": 0, \"ticks\": \"\"}, \"colorscale\": [[0.0, \"#0d0887\"], [0.1111111111111111, \"#46039f\"], [0.2222222222222222, \"#7201a8\"], [0.3333333333333333, \"#9c179e\"], [0.4444444444444444, \"#bd3786\"], [0.5555555555555556, \"#d8576b\"], [0.6666666666666666, \"#ed7953\"], [0.7777777777777778, \"#fb9f3a\"], [0.8888888888888888, \"#fdca26\"], [1.0, \"#f0f921\"]], \"type\": \"heatmapgl\"}], \"histogram\": [{\"marker\": {\"colorbar\": {\"outlinewidth\": 0, \"ticks\": \"\"}}, \"type\": \"histogram\"}], \"histogram2d\": [{\"colorbar\": {\"outlinewidth\": 0, \"ticks\": \"\"}, \"colorscale\": [[0.0, \"#0d0887\"], [0.1111111111111111, \"#46039f\"], [0.2222222222222222, \"#7201a8\"], [0.3333333333333333, \"#9c179e\"], [0.4444444444444444, \"#bd3786\"], [0.5555555555555556, \"#d8576b\"], [0.6666666666666666, \"#ed7953\"], [0.7777777777777778, \"#fb9f3a\"], [0.8888888888888888, \"#fdca26\"], [1.0, \"#f0f921\"]], \"type\": \"histogram2d\"}], \"histogram2dcontour\": [{\"colorbar\": {\"outlinewidth\": 0, \"ticks\": \"\"}, \"colorscale\": [[0.0, \"#0d0887\"], [0.1111111111111111, \"#46039f\"], [0.2222222222222222, \"#7201a8\"], [0.3333333333333333, \"#9c179e\"], [0.4444444444444444, \"#bd3786\"], [0.5555555555555556, \"#d8576b\"], [0.6666666666666666, \"#ed7953\"], [0.7777777777777778, \"#fb9f3a\"], [0.8888888888888888, \"#fdca26\"], [1.0, \"#f0f921\"]], \"type\": \"histogram2dcontour\"}], \"mesh3d\": [{\"colorbar\": {\"outlinewidth\": 0, \"ticks\": \"\"}, \"type\": \"mesh3d\"}], \"parcoords\": [{\"line\": {\"colorbar\": {\"outlinewidth\": 0, \"ticks\": \"\"}}, \"type\": \"parcoords\"}], \"pie\": [{\"automargin\": true, \"type\": \"pie\"}], \"scatter\": [{\"marker\": {\"colorbar\": {\"outlinewidth\": 0, \"ticks\": \"\"}}, \"type\": \"scatter\"}], \"scatter3d\": [{\"line\": {\"colorbar\": {\"outlinewidth\": 0, \"ticks\": \"\"}}, \"marker\": {\"colorbar\": {\"outlinewidth\": 0, \"ticks\": \"\"}}, \"type\": \"scatter3d\"}], \"scattercarpet\": [{\"marker\": {\"colorbar\": {\"outlinewidth\": 0, \"ticks\": \"\"}}, \"type\": \"scattercarpet\"}], \"scattergeo\": [{\"marker\": {\"colorbar\": {\"outlinewidth\": 0, \"ticks\": \"\"}}, \"type\": \"scattergeo\"}], \"scattergl\": [{\"marker\": {\"colorbar\": {\"outlinewidth\": 0, \"ticks\": \"\"}}, \"type\": \"scattergl\"}], \"scattermapbox\": [{\"marker\": {\"colorbar\": {\"outlinewidth\": 0, \"ticks\": \"\"}}, \"type\": \"scattermapbox\"}], \"scatterpolar\": [{\"marker\": {\"colorbar\": {\"outlinewidth\": 0, \"ticks\": \"\"}}, \"type\": \"scatterpolar\"}], \"scatterpolargl\": [{\"marker\": {\"colorbar\": {\"outlinewidth\": 0, \"ticks\": \"\"}}, \"type\": \"scatterpolargl\"}], \"scatterternary\": [{\"marker\": {\"colorbar\": {\"outlinewidth\": 0, \"ticks\": \"\"}}, \"type\": \"scatterternary\"}], \"surface\": [{\"colorbar\": {\"outlinewidth\": 0, \"ticks\": \"\"}, \"colorscale\": [[0.0, \"#0d0887\"], [0.1111111111111111, \"#46039f\"], [0.2222222222222222, \"#7201a8\"], [0.3333333333333333, \"#9c179e\"], [0.4444444444444444, \"#bd3786\"], [0.5555555555555556, \"#d8576b\"], [0.6666666666666666, \"#ed7953\"], [0.7777777777777778, \"#fb9f3a\"], [0.8888888888888888, \"#fdca26\"], [1.0, \"#f0f921\"]], \"type\": \"surface\"}], \"table\": [{\"cells\": {\"fill\": {\"color\": \"#EBF0F8\"}, \"line\": {\"color\": \"white\"}}, \"header\": {\"fill\": {\"color\": \"#C8D4E3\"}, \"line\": {\"color\": \"white\"}}, \"type\": \"table\"}]}, \"layout\": {\"annotationdefaults\": {\"arrowcolor\": \"#2a3f5f\", \"arrowhead\": 0, \"arrowwidth\": 1}, \"coloraxis\": {\"colorbar\": {\"outlinewidth\": 0, \"ticks\": \"\"}}, \"colorscale\": {\"diverging\": [[0, \"#8e0152\"], [0.1, \"#c51b7d\"], [0.2, \"#de77ae\"], [0.3, \"#f1b6da\"], [0.4, \"#fde0ef\"], [0.5, \"#f7f7f7\"], [0.6, \"#e6f5d0\"], [0.7, \"#b8e186\"], [0.8, \"#7fbc41\"], [0.9, \"#4d9221\"], [1, \"#276419\"]], \"sequential\": [[0.0, \"#0d0887\"], [0.1111111111111111, \"#46039f\"], [0.2222222222222222, \"#7201a8\"], [0.3333333333333333, \"#9c179e\"], [0.4444444444444444, \"#bd3786\"], [0.5555555555555556, \"#d8576b\"], [0.6666666666666666, \"#ed7953\"], [0.7777777777777778, \"#fb9f3a\"], [0.8888888888888888, \"#fdca26\"], [1.0, \"#f0f921\"]], \"sequentialminus\": [[0.0, \"#0d0887\"], [0.1111111111111111, \"#46039f\"], [0.2222222222222222, \"#7201a8\"], [0.3333333333333333, \"#9c179e\"], [0.4444444444444444, \"#bd3786\"], [0.5555555555555556, \"#d8576b\"], [0.6666666666666666, \"#ed7953\"], [0.7777777777777778, \"#fb9f3a\"], [0.8888888888888888, \"#fdca26\"], [1.0, \"#f0f921\"]]}, \"colorway\": [\"#636efa\", \"#EF553B\", \"#00cc96\", \"#ab63fa\", \"#FFA15A\", \"#19d3f3\", \"#FF6692\", \"#B6E880\", \"#FF97FF\", \"#FECB52\"], \"font\": {\"color\": \"#2a3f5f\"}, \"geo\": {\"bgcolor\": \"white\", \"lakecolor\": \"white\", \"landcolor\": \"#E5ECF6\", \"showlakes\": true, \"showland\": true, \"subunitcolor\": \"white\"}, \"hoverlabel\": {\"align\": \"left\"}, \"hovermode\": \"closest\", \"mapbox\": {\"style\": \"light\"}, \"paper_bgcolor\": \"white\", \"plot_bgcolor\": \"#E5ECF6\", \"polar\": {\"angularaxis\": {\"gridcolor\": \"white\", \"linecolor\": \"white\", \"ticks\": \"\"}, \"bgcolor\": \"#E5ECF6\", \"radialaxis\": {\"gridcolor\": \"white\", \"linecolor\": \"white\", \"ticks\": \"\"}}, \"scene\": {\"xaxis\": {\"backgroundcolor\": \"#E5ECF6\", \"gridcolor\": \"white\", \"gridwidth\": 2, \"linecolor\": \"white\", \"showbackground\": true, \"ticks\": \"\", \"zerolinecolor\": \"white\"}, \"yaxis\": {\"backgroundcolor\": \"#E5ECF6\", \"gridcolor\": \"white\", \"gridwidth\": 2, \"linecolor\": \"white\", \"showbackground\": true, \"ticks\": \"\", \"zerolinecolor\": \"white\"}, \"zaxis\": {\"backgroundcolor\": \"#E5ECF6\", \"gridcolor\": \"white\", \"gridwidth\": 2, \"linecolor\": \"white\", \"showbackground\": true, \"ticks\": \"\", \"zerolinecolor\": \"white\"}}, \"shapedefaults\": {\"line\": {\"color\": \"#2a3f5f\"}}, \"ternary\": {\"aaxis\": {\"gridcolor\": \"white\", \"linecolor\": \"white\", \"ticks\": \"\"}, \"baxis\": {\"gridcolor\": \"white\", \"linecolor\": \"white\", \"ticks\": \"\"}, \"bgcolor\": \"#E5ECF6\", \"caxis\": {\"gridcolor\": \"white\", \"linecolor\": \"white\", \"ticks\": \"\"}}, \"title\": {\"x\": 0.05}, \"xaxis\": {\"automargin\": true, \"gridcolor\": \"white\", \"linecolor\": \"white\", \"ticks\": \"\", \"title\": {\"standoff\": 15}, \"zerolinecolor\": \"white\", \"zerolinewidth\": 2}, \"yaxis\": {\"automargin\": true, \"gridcolor\": \"white\", \"linecolor\": \"white\", \"ticks\": \"\", \"title\": {\"standoff\": 15}, \"zerolinecolor\": \"white\", \"zerolinewidth\": 2}}}, \"title\": {\"text\": \"Regression of distance\"}, \"xaxis\": {\"title\": {\"text\": \"Samples\"}}, \"yaxis\": {\"title\": {\"text\": \"Predicted value\"}}},\n",
       "                        {\"responsive\": true}\n",
       "                    ).then(function(){\n",
       "                            \n",
       "var gd = document.getElementById('7998b0b1-2aaa-4a33-b7df-13a9e38bd8de');\n",
       "var x = new MutationObserver(function (mutations, observer) {{\n",
       "        var display = window.getComputedStyle(gd).display;\n",
       "        if (!display || display === 'none') {{\n",
       "            console.log([gd, 'removed!']);\n",
       "            Plotly.purge(gd);\n",
       "            observer.disconnect();\n",
       "        }}\n",
       "}});\n",
       "\n",
       "// Listen for the removal of the full notebook cells\n",
       "var notebookContainer = gd.closest('#notebook-container');\n",
       "if (notebookContainer) {{\n",
       "    x.observe(notebookContainer, {childList: true});\n",
       "}}\n",
       "\n",
       "// Listen for the clearing of the current output cell\n",
       "var outputEl = gd.closest('.output');\n",
       "if (outputEl) {{\n",
       "    x.observe(outputEl, {childList: true});\n",
       "}}\n",
       "\n",
       "                        })\n",
       "                };\n",
       "                });\n",
       "            </script>\n",
       "        </div>"
      ]
     },
     "metadata": {},
     "output_type": "display_data"
    }
   ],
   "source": [
    "dists = [4,3,2,1,0,-1,-2,-3,-4]\n",
    "c1 = [\"red\",\"maroon\", \"yellow\",\"green\",\"purple\",\"peru\",\"cyan\",\"pink\",\"slategray\",\"black\", \"orange\"]\n",
    "lbs = []\n",
    "\n",
    "fig = go.Figure()\n",
    "\n",
    "for d in range(len(dists)):\n",
    "    dist = dists[d]\n",
    "    if dist==0:\n",
    "        a=\"Normal\"\n",
    "    if dist<0:\n",
    "        a=f\"Shrink--{-1*dist} mm\"\n",
    "    if dist>0:\n",
    "        a=f\"Expand--{dist} mm\"\n",
    "    c = 0\n",
    "    y_axis1 = []\n",
    "    y_axis2 = []\n",
    "    for i in range(len(y_test)):\n",
    "\n",
    "        if y_test[i]==dist:\n",
    "            y_axis1.append(guesses[i])\n",
    "            y_axis2.append(y_test[i])\n",
    "    #ln1, = plt.plot(list(range(len(y_axis1))), y_axis1, color=\"red\")\n",
    "    random.shuffle(y_axis1)\n",
    "    trace = go.Scatter(x=list(range(len(y_axis1))), y=y_axis1, mode='markers', name=f\"{a}\")\n",
    "    fig.add_trace(trace)\n",
    "    #lbs.append(trace)\n",
    "fig.update_layout(\n",
    "    title=\"Regression of distance\",\n",
    "    xaxis_title=\"Samples\",\n",
    "    yaxis_title=\"Predicted value\",\n",
    "    font=dict(\n",
    "        #family=\"Courier New, monospace\",\n",
    "        size=13,\n",
    "        #color=\"RebeccaPurple\"\n",
    "    )\n",
    ")\n",
    "fig.show()\n",
    "\n",
    "#py.plot(lbs)\n",
    "#pio.write_image(fig,\"plotly.png\")\n"
   ]
  },
  {
   "cell_type": "code",
   "execution_count": null,
   "metadata": {},
   "outputs": [],
   "source": []
  },
  {
   "cell_type": "code",
   "execution_count": null,
   "metadata": {},
   "outputs": [],
   "source": []
  },
  {
   "cell_type": "code",
   "execution_count": null,
   "metadata": {},
   "outputs": [],
   "source": []
  }
 ],
 "metadata": {
  "kernelspec": {
   "display_name": "Python 3",
   "language": "python",
   "name": "python3"
  }
 },
 "nbformat": 4,
 "nbformat_minor": 2
}
