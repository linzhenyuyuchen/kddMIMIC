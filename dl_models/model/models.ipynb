{
 "cells": [
  {
   "cell_type": "code",
   "execution_count": 30,
   "metadata": {},
   "outputs": [],
   "source": [
    "import os\n",
    "import sys\n",
    "import warnings\n",
    "import numpy as np\n",
    "from tqdm import tqdm\n",
    "from random import choice\n",
    "from copy import deepcopy\n",
    "from string import ascii_uppercase\n",
    "from torchsummary import summary\n",
    "\n",
    "import torch\n",
    "import torch.nn.functional as F\n",
    "import torch.nn as nn\n",
    "import torch.optim as optim\n",
    "from torch.utils.data import DataLoader\n",
    "\n",
    "warnings.filterwarnings('ignore')\n"
   ]
  },
  {
   "cell_type": "code",
   "execution_count": 45,
   "metadata": {},
   "outputs": [],
   "source": [
    "\n",
    "class newLayer(nn.Module):\n",
    "    def __init__(self, in_features, out_features):\n",
    "        super(newLayer, self).__init__()\n",
    "        self.in_features = in_features\n",
    "        self.out_features = out_features\n",
    "        self.layer = nn.Sequential(nn.Linear(self.in_features, self.out_features),\n",
    "                                   nn.Sigmoid(),\n",
    "                                   nn.Dropout(0.2))\n",
    "    def forward(self, x):\n",
    "        out = self.layer(x)\n",
    "        return out\n",
    "\n",
    "# Simple feed-forward network, used to get network outputs and evaluations\n",
    "# Input: 0-mean, 1-std, 2-dimension array (n_samples, n_dimensions)\n",
    "# Output: 0/1 binary label (n_samples)\n",
    "# Layers: 2 hidden layers and 1 prediction layer\n",
    "# Activation: sigmoid for all layers\n",
    "# Objective: binary cross entropy for prediction\n",
    "class FeedForwardNetwork(nn.Module):\n",
    "    def __init__(self, n_features=5, hidden_dim=10, patience=20, ffn_depth=2,batch_normalization='False'):\n",
    "        super(FeedForwardNetwork, self).__init__()\n",
    "\n",
    "        self.n_features = n_features\n",
    "        self.hidden_dim = hidden_dim\n",
    "        self.patience = patience\n",
    "        self.type_MMDL = 1\n",
    "        self.random_str = ''.join(choice(ascii_uppercase) for i in range(12))\n",
    "        self.ffn_depth = ffn_depth\n",
    "        self.batch_normalization = batch_normalization\n",
    "\n",
    "        # input n_features\n",
    "        self.linear1 = nn.Sequential(nn.Linear(self.n_features, self.hidden_dim),\n",
    "                                     nn.Sigmoid(),\n",
    "                                     nn.Dropout(0.1))\n",
    "        self.layers = nn.Sequential()\n",
    "        for t in range(self.ffn_depth - 1):\n",
    "            self.layers.add_module(f\"layer{t}\",newLayer(self.hidden_dim, self.hidden_dim))\n",
    "        self.linear2 = nn.Linear(self.hidden_dim, 1)\n",
    "        self.bn = nn.BatchNorm1d(1)\n",
    "        self.sigmoid = nn.Sigmoid()\n",
    "\n",
    "    def forward(self, x):\n",
    "        x = self.linear1(x)\n",
    "        x = self.layers(x)\n",
    "        x = self.linear2(x)\n",
    "        if self.batch_normalization:\n",
    "            x = self.bn(x)\n",
    "        x = self.sigmoid(x)\n",
    "        return x"
   ]
  },
  {
   "cell_type": "code",
   "execution_count": 49,
   "metadata": {},
   "outputs": [],
   "source": [
    "model1 = FeedForwardNetwork()"
   ]
  },
  {
   "cell_type": "code",
   "execution_count": 50,
   "metadata": {},
   "outputs": [
    {
     "data": {
      "text/plain": [
       "FeedForwardNetwork(\n",
       "  (linear1): Sequential(\n",
       "    (0): Linear(in_features=5, out_features=10, bias=True)\n",
       "    (1): Sigmoid()\n",
       "    (2): Dropout(p=0.1, inplace=False)\n",
       "  )\n",
       "  (layers): Sequential(\n",
       "    (layer0): newLayer(\n",
       "      (layer): Sequential(\n",
       "        (0): Linear(in_features=10, out_features=10, bias=True)\n",
       "        (1): Sigmoid()\n",
       "        (2): Dropout(p=0.2, inplace=False)\n",
       "      )\n",
       "    )\n",
       "  )\n",
       "  (linear2): Linear(in_features=10, out_features=1, bias=True)\n",
       "  (bn): BatchNorm1d(1, eps=1e-05, momentum=0.1, affine=True, track_running_stats=True)\n",
       "  (sigmoid): Sigmoid()\n",
       ")"
      ]
     },
     "execution_count": 50,
     "metadata": {},
     "output_type": "execute_result"
    }
   ],
   "source": [
    "model1"
   ]
  },
  {
   "cell_type": "code",
   "execution_count": 51,
   "metadata": {},
   "outputs": [
    {
     "name": "stdout",
     "output_type": "stream",
     "text": [
      "torch.Size([4, 1])\n"
     ]
    }
   ],
   "source": [
    "input1 = torch.rand(4,5)\n",
    "out1 = model1(input1)\n",
    "print(out1.shape)"
   ]
  },
  {
   "cell_type": "code",
   "execution_count": 86,
   "metadata": {},
   "outputs": [],
   "source": [
    "# Simple LSTM network with a overall prediction layer\n",
    "# Input: 0-mean, 1-std, 3-dimension array (n_samples, n_timesteps, n_dimensions)\n",
    "# Output: 0/1 binary label    (n_samples)\n",
    "# Layers: 2 hidden layers and 1 prediction layer\n",
    "# Activation: sigmoid for all layers\n",
    "# Objective: binary cross entropy for prediction\n",
    "class SimpleLSTMNetwork(nn.Module):\n",
    "    def __init__(self, n_features=200, time_step = 24, lstm_layers=1):\n",
    "        super(SimpleLSTMNetwork, self).__init__()\n",
    "        self.n_features = n_features\n",
    "        self.lstm_layers = lstm_layers\n",
    "        self.time_step = time_step\n",
    "        self.lstm = nn.LSTM(input_size = self.n_features, hidden_size = self.n_features, num_layers=self.lstm_layers, batch_first=True)\n",
    "        self.model = nn.Sequential(\n",
    "            nn.Sigmoid(),\n",
    "            nn.Flatten(),\n",
    "            nn.Dropout(0.2),\n",
    "            nn.Linear(self.n_features * self.time_step , 1),\n",
    "            nn.Sigmoid()        \n",
    "        )\n",
    "    def forward(self, x):\n",
    "        x, _ = self.lstm(x)\n",
    "        x = self.model(x)\n",
    "        return x\n",
    "\n"
   ]
  },
  {
   "cell_type": "code",
   "execution_count": 87,
   "metadata": {},
   "outputs": [
    {
     "data": {
      "text/plain": [
       "SimpleLSTMNetwork(\n",
       "  (lstm): LSTM(200, 200, batch_first=True)\n",
       "  (model): Sequential(\n",
       "    (0): Sigmoid()\n",
       "    (1): Flatten()\n",
       "    (2): Dropout(p=0.2, inplace=False)\n",
       "    (3): Linear(in_features=4800, out_features=1, bias=True)\n",
       "    (4): Sigmoid()\n",
       "  )\n",
       ")"
      ]
     },
     "execution_count": 87,
     "metadata": {},
     "output_type": "execute_result"
    }
   ],
   "source": [
    "model2 = SimpleLSTMNetwork()\n",
    "model2"
   ]
  },
  {
   "cell_type": "code",
   "execution_count": 88,
   "metadata": {},
   "outputs": [
    {
     "name": "stdout",
     "output_type": "stream",
     "text": [
      "torch.Size([4, 1])\n"
     ]
    }
   ],
   "source": [
    "input1 = torch.rand(4,24, 200)\n",
    "out1 = model2(input1)\n",
    "print(out1.shape)"
   ]
  },
  {
   "cell_type": "code",
   "execution_count": null,
   "metadata": {},
   "outputs": [],
   "source": []
  },
  {
   "cell_type": "code",
   "execution_count": 144,
   "metadata": {},
   "outputs": [],
   "source": [
    "class HierarchicalMultimodal(nn.Module):\n",
    "    def __init__(self, static = True, size_Xs= 5, dropout = 0.1, batch_normalization = 'False',\n",
    "                 time_step = 48, n_features = 15, fit_parameters = [2,1,0]):\n",
    "        super(HierarchicalMultimodal, self).__init__()\n",
    "\n",
    "        self.static = static\n",
    "        self.size_Xs = size_Xs\n",
    "        self.dropout = dropout\n",
    "        self.batch_normalization = batch_normalization\n",
    "        self.n_features = n_features\n",
    "        self.time_step = time_step\n",
    "        self.output_dim,self.static_depth, self.merge_depth = fit_parameters\n",
    "        self.y_tasks = 1\n",
    "        ########################################################################\n",
    "        if self.static:\n",
    "            # FFN model\n",
    "            self.FFNmodel = nn.Sequential()\n",
    "            self.FFNmodel.add_module(\"linear1\", nn.Linear(self.size_Xs, self.size_Xs * self.output_dim))\n",
    "            self.FFNmodel.add_module(\"sg1\", nn.Sigmoid())\n",
    "            self.FFNmodel.add_module(\"dp1\", nn.Dropout(self.dropout))\n",
    "\n",
    "            for i in range(self.static_depth):\n",
    "                self.FFNmodel.add_module(f\"linear{i+2}\",nn.Linear(self.size_Xs * self.output_dim, self.size_Xs * self.output_dim))\n",
    "                self.FFNmodel.add_module(f\"sg{i+2}\",nn.Sigmoid())\n",
    "                self.FFNmodel.add_module(f\"dp{i+2}\",nn.Dropout(self.dropout))\n",
    "\n",
    "        ########################################################################\n",
    "\n",
    "        self.GRUmodel = nn.Sequential()\n",
    "        self.GRUmodel.add_module(\"gru\", nn.GRU(input_size= self.n_features, hidden_size= self.n_features * self.output_dim, batch_first=True))\n",
    "        self.GRUlast = nn.Sequential()\n",
    "        self.GRUlast.add_module(\"flatten\", nn.Flatten())\n",
    "        self.GRUlast.add_module(\"dropout\", nn.Dropout(self.dropout))\n",
    "\n",
    "\n",
    "        if self.static:\n",
    "            self.len_combine = self.size_Xs + self.n_features\n",
    "            self.model_merge = nn.Sequential(nn.Linear(self.size_Xs * self.output_dim+self.time_step * self.n_features * self.output_dim, self.len_combine*self.output_dim),\n",
    "                                       nn.Sigmoid(),\n",
    "                                       nn.Dropout(self.dropout))\n",
    "\n",
    "            for i in range(self.merge_depth):\n",
    "                dense_len = int(self.len_combine * self.output_dim / np.power(2, i + 1))\n",
    "                if i == 0:\n",
    "                    self.model_merge.add_module(f\"mlinear{i}\",nn.Linear(self.len_combine*self.output_dim, dense_len))\n",
    "                else:\n",
    "                    self.model_merge.add_module(f\"mlinear{i}\", nn.Linear(dense_len, dense_len))\n",
    "                self.model_merge.add_module(f\"sg{i}\",nn.Sigmoid())\n",
    "                self.model_merge.add_module(f\"dp{i}\",nn.Dropout(self.dropout))\n",
    "            if self.merge_depth:\n",
    "                merge_input_len = int(self.len_combine * self.output_dim / np.power(2, self.merge_depth))\n",
    "            else:\n",
    "                merge_input_len =  self.len_combine*self.output_dim\n",
    "            self.model_merge.add_module(\"mlinear_last\", nn.Linear(merge_input_len, self.y_tasks))\n",
    "\n",
    "            if self.batch_normalization:\n",
    "                self.model_merge.add_module(\"bn\", nn.BatchNorm1d(self.y_tasks))\n",
    "            self.model_merge.add_module(\"sg_last\", nn.Sigmoid())\n",
    "\n",
    "        else:\n",
    "            self.len_combine = self.n_features * self.output_dim\n",
    "            self.model_merge = Sequential()\n",
    "            self.model_merge.add_module(\"mlinear_last\", nn.Linear(self.len_combine, self.y_tasks))\n",
    "            if self.batch_normalization:\n",
    "                self.model_merge.add_module(\"bn\", nn.BatchNorm1d(self.y_tasks))\n",
    "            self.model_merge.add_module(\"sg_last\", nn.Sigmoid())\n",
    "\n",
    "\n",
    "    def forward(self, x):\n",
    "        if self.static:\n",
    "            x0, x1 = x[0], x[1]\n",
    "            x0 = self.FFNmodel(x0)\n",
    "            x1,_ = self.GRUmodel(x1)\n",
    "            x1 = self.GRUlast(x1)\n",
    "            x = torch.cat([x0, x1], dim=1)\n",
    "            x = self.model_merge(x)\n",
    "        else:\n",
    "            x = self.GRUmodel(x)\n",
    "            x = self.model_merge(x)\n",
    "\n",
    "        return x\n",
    "\n",
    "\n"
   ]
  },
  {
   "cell_type": "code",
   "execution_count": 145,
   "metadata": {},
   "outputs": [
    {
     "data": {
      "text/plain": [
       "HierarchicalMultimodal(\n",
       "  (FFNmodel): Sequential(\n",
       "    (linear1): Linear(in_features=5, out_features=10, bias=True)\n",
       "    (sg1): Sigmoid()\n",
       "    (dp1): Dropout(p=0.1, inplace=False)\n",
       "    (linear2): Linear(in_features=10, out_features=10, bias=True)\n",
       "    (sg2): Sigmoid()\n",
       "    (dp2): Dropout(p=0.1, inplace=False)\n",
       "  )\n",
       "  (GRUmodel): Sequential(\n",
       "    (gru): GRU(15, 30, batch_first=True)\n",
       "  )\n",
       "  (GRUlast): Sequential(\n",
       "    (flatten): Flatten()\n",
       "    (dropout): Dropout(p=0.1, inplace=False)\n",
       "  )\n",
       "  (model_merge): Sequential(\n",
       "    (0): Linear(in_features=1450, out_features=40, bias=True)\n",
       "    (1): Sigmoid()\n",
       "    (2): Dropout(p=0.1, inplace=False)\n",
       "    (mlinear0): Linear(in_features=40, out_features=20, bias=True)\n",
       "    (sg0): Sigmoid()\n",
       "    (dp0): Dropout(p=0.1, inplace=False)\n",
       "    (mlinear_last): Linear(in_features=20, out_features=1, bias=True)\n",
       "    (bn): BatchNorm1d(1, eps=1e-05, momentum=0.1, affine=True, track_running_stats=True)\n",
       "    (sg_last): Sigmoid()\n",
       "  )\n",
       ")"
      ]
     },
     "execution_count": 145,
     "metadata": {},
     "output_type": "execute_result"
    }
   ],
   "source": [
    "model3 = HierarchicalMultimodal()\n",
    "model3"
   ]
  },
  {
   "cell_type": "code",
   "execution_count": 146,
   "metadata": {},
   "outputs": [
    {
     "name": "stdout",
     "output_type": "stream",
     "text": [
      "torch.Size([4, 1])\n"
     ]
    }
   ],
   "source": [
    "a = torch.rand(4,5)\n",
    "b = torch.rand(4,48,15)\n",
    "c = [a,b]\n",
    "out = model3(c)\n",
    "print(out.shape)"
   ]
  },
  {
   "cell_type": "code",
   "execution_count": null,
   "metadata": {},
   "outputs": [],
   "source": []
  }
 ],
 "metadata": {
  "kernelspec": {
   "display_name": "pt",
   "language": "python",
   "name": "pt"
  },
  "language_info": {
   "codemirror_mode": {
    "name": "ipython",
    "version": 3
   },
   "file_extension": ".py",
   "mimetype": "text/x-python",
   "name": "python",
   "nbconvert_exporter": "python",
   "pygments_lexer": "ipython3",
   "version": "3.7.3"
  }
 },
 "nbformat": 4,
 "nbformat_minor": 2
}
