{
 "cells": [
  {
   "cell_type": "code",
   "execution_count": 1,
   "metadata": {},
   "outputs": [],
   "source": [
    "import os, csv, yaml, pickle\n",
    "import pandas as pd\n",
    "from tqdm import tqdm\n",
    "from collections import defaultdict\n"
   ]
  },
  {
   "cell_type": "code",
   "execution_count": 30,
   "metadata": {},
   "outputs": [],
   "source": [
    "def read_events_table_by_row2():\n",
    "    #reader = csv.DictReader(open(\"/data2/lzylzy/mimic/chartevents_filtered_all.csv\"), 'r')\n",
    "    reader = csv.DictReader(open(\"/data2/lzy/MIMIC-III/1.4/physionet.org/files/mimiciii/1.4/LABEVENTS.csv\"), 'r')\n",
    "    for i, row in enumerate(reader):\n",
    "        if 'ICUSTAY_ID' not in row:\n",
    "            row['ICUSTAY_ID'] = ''\n",
    "        # yield row, i, nb_rows[table.lower()]\n",
    "        yield row, i, \"table.lower()\""
   ]
  },
  {
   "cell_type": "code",
   "execution_count": 13,
   "metadata": {},
   "outputs": [],
   "source": [
    "def read_events_table_by_row():\n",
    "    reader = csv.DictReader(open(\"/data2/lzylzy/mimic/chartevents_filtered_all.csv\"), 'r')\n",
    "    for i, row in enumerate(reader):\n",
    "        if 'ICUSTAY_ID' not in row:\n",
    "            row['ICUSTAY_ID'] = ''\n",
    "        # yield row, i, nb_rows[table.lower()]\n",
    "        yield row, i, \"table.lower()\""
   ]
  },
  {
   "cell_type": "code",
   "execution_count": null,
   "metadata": {},
   "outputs": [],
   "source": []
  }
 ],
 "metadata": {
  "kernelspec": {
   "display_name": "pt",
   "language": "python",
   "name": "pt"
  },
  "language_info": {
   "codemirror_mode": {
    "name": "ipython",
    "version": 3
   },
   "file_extension": ".py",
   "mimetype": "text/x-python",
   "name": "python",
   "nbconvert_exporter": "python",
   "pygments_lexer": "ipython3",
   "version": "3.7.3"
  }
 },
 "nbformat": 4,
 "nbformat_minor": 2
}
