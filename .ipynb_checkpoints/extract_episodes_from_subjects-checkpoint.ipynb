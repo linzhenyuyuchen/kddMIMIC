{
 "cells": [
  {
   "cell_type": "markdown",
   "metadata": {},
   "source": [
    "# read subject csv"
   ]
  },
  {
   "cell_type": "code",
   "execution_count": 1,
   "metadata": {},
   "outputs": [],
   "source": [
    "import os, sys, yaml\n",
    "from tqdm import tqdm_notebook as tqdm\n",
    "\n",
    "from utils.preprocessing import *\n",
    "from utils.read_csv import *\n",
    "from utils.episode_custom import *\n",
    "cfg = yaml.load(open(\"./config.yaml\",\"r\"), Loader=yaml.FullLoader)\n",
    "output_path = cfg[\"output_path\"]\n",
    "output_subject_path = cfg[\"output_subject_path\"]\n",
    "itemids_file = cfg[\"itemids_file\"]\n",
    "event_tables = cfg[\"event_tables\"]\n",
    "resources_path = cfg[\"resources\"]\n",
    "# read all variables in events\n",
    "variables = read_variables(resources_path)"
   ]
  },
  {
   "cell_type": "markdown",
   "metadata": {},
   "source": [
    "# extract episodes from subjects"
   ]
  },
  {
   "cell_type": "code",
   "execution_count": 2,
   "metadata": {},
   "outputs": [
    {
     "name": "stdout",
     "output_type": "stream",
     "text": [
      "/data2/lzylzy/mimic/subjects/46600\n",
      "reading tables...\n"
     ]
    },
    {
     "ename": "KeyError",
     "evalue": "\"None of ['ICUSTAY_ID'] are in the columns\"",
     "output_type": "error",
     "traceback": [
      "\u001b[0;31m---------------------------------------------------------------------------\u001b[0m",
      "\u001b[0;31mKeyError\u001b[0m                                  Traceback (most recent call last)",
      "\u001b[0;32m<ipython-input-2-1f10f1695fac>\u001b[0m in \u001b[0;36m<module>\u001b[0;34m\u001b[0m\n\u001b[1;32m     47\u001b[0m         \u001b[0mepisode\u001b[0m \u001b[0;34m=\u001b[0m \u001b[0mepisode\u001b[0m\u001b[0;34m[\u001b[0m\u001b[0mcolumns_sorted\u001b[0m\u001b[0;34m]\u001b[0m\u001b[0;34m\u001b[0m\u001b[0;34m\u001b[0m\u001b[0m\n\u001b[1;32m     48\u001b[0m         \u001b[0mepisode\u001b[0m\u001b[0;34m.\u001b[0m\u001b[0mto_csv\u001b[0m\u001b[0;34m(\u001b[0m\u001b[0mos\u001b[0m\u001b[0;34m.\u001b[0m\u001b[0mpath\u001b[0m\u001b[0;34m.\u001b[0m\u001b[0mjoin\u001b[0m\u001b[0;34m(\u001b[0m\u001b[0mdh\u001b[0m\u001b[0;34m,\u001b[0m \u001b[0;34m'episode{}_timeseries.csv'\u001b[0m\u001b[0;34m.\u001b[0m\u001b[0mformat\u001b[0m\u001b[0;34m(\u001b[0m\u001b[0mi\u001b[0m\u001b[0;34m+\u001b[0m\u001b[0;36m1\u001b[0m\u001b[0;34m)\u001b[0m\u001b[0;34m)\u001b[0m\u001b[0;34m,\u001b[0m\u001b[0mindex_label\u001b[0m\u001b[0;34m=\u001b[0m\u001b[0;34m'HOURS'\u001b[0m\u001b[0;34m)\u001b[0m\u001b[0;34m\u001b[0m\u001b[0;34m\u001b[0m\u001b[0m\n\u001b[0;32m---> 49\u001b[0;31m \u001b[0mepisode_split\u001b[0m\u001b[0;34m(\u001b[0m\u001b[0;36m46600\u001b[0m\u001b[0;34m,\u001b[0m \u001b[0mvariables\u001b[0m\u001b[0;34m)\u001b[0m\u001b[0;34m\u001b[0m\u001b[0;34m\u001b[0m\u001b[0m\n\u001b[0m",
      "\u001b[0;32m<ipython-input-2-1f10f1695fac>\u001b[0m in \u001b[0;36mepisode_split\u001b[0;34m(subject_dir, variables)\u001b[0m\n\u001b[1;32m     12\u001b[0m     \u001b[0;31m# read tables of this subject\u001b[0m\u001b[0;34m\u001b[0m\u001b[0;34m\u001b[0m\u001b[0;34m\u001b[0m\u001b[0m\n\u001b[1;32m     13\u001b[0m     \u001b[0mstays\u001b[0m \u001b[0;34m=\u001b[0m \u001b[0mread_stays\u001b[0m\u001b[0;34m(\u001b[0m\u001b[0mdn\u001b[0m\u001b[0;34m)\u001b[0m\u001b[0;34m\u001b[0m\u001b[0;34m\u001b[0m\u001b[0m\n\u001b[0;32m---> 14\u001b[0;31m     \u001b[0mdiagnoses\u001b[0m \u001b[0;34m=\u001b[0m \u001b[0mread_diagnoses\u001b[0m\u001b[0;34m(\u001b[0m\u001b[0mdn\u001b[0m\u001b[0;34m,\u001b[0m \u001b[0mresources_path\u001b[0m\u001b[0;34m)\u001b[0m\u001b[0;34m\u001b[0m\u001b[0;34m\u001b[0m\u001b[0m\n\u001b[0m\u001b[1;32m     15\u001b[0m     \u001b[0mprocedures\u001b[0m \u001b[0;34m=\u001b[0m \u001b[0mread_procedures\u001b[0m\u001b[0;34m(\u001b[0m\u001b[0mdn\u001b[0m\u001b[0;34m,\u001b[0m \u001b[0mresources_path\u001b[0m\u001b[0;34m)\u001b[0m\u001b[0;34m\u001b[0m\u001b[0;34m\u001b[0m\u001b[0m\n\u001b[1;32m     16\u001b[0m     \u001b[0;31m# map itemids to variables in event\u001b[0m\u001b[0;34m\u001b[0m\u001b[0;34m\u001b[0m\u001b[0;34m\u001b[0m\u001b[0m\n",
      "\u001b[0;32m~/KDD-MIMIC/mimic_benchmark/utils/episode_custom.py\u001b[0m in \u001b[0;36mread_diagnoses\u001b[0;34m(subject_path, resources_path)\u001b[0m\n\u001b[1;32m     56\u001b[0m \u001b[0;32mdef\u001b[0m \u001b[0mread_diagnoses\u001b[0m\u001b[0;34m(\u001b[0m\u001b[0msubject_path\u001b[0m\u001b[0;34m,\u001b[0m \u001b[0mresources_path\u001b[0m\u001b[0;34m)\u001b[0m\u001b[0;34m:\u001b[0m\u001b[0;34m\u001b[0m\u001b[0;34m\u001b[0m\u001b[0m\n\u001b[1;32m     57\u001b[0m     \u001b[0mdf\u001b[0m \u001b[0;34m=\u001b[0m \u001b[0mdataframe_from_csv\u001b[0m\u001b[0;34m(\u001b[0m\u001b[0mos\u001b[0m\u001b[0;34m.\u001b[0m\u001b[0mpath\u001b[0m\u001b[0;34m.\u001b[0m\u001b[0mjoin\u001b[0m\u001b[0;34m(\u001b[0m\u001b[0msubject_path\u001b[0m\u001b[0;34m,\u001b[0m \u001b[0;34m'diagnoses.csv'\u001b[0m\u001b[0;34m)\u001b[0m\u001b[0;34m,\u001b[0m \u001b[0mindex_col\u001b[0m\u001b[0;34m=\u001b[0m\u001b[0;32mNone\u001b[0m\u001b[0;34m)\u001b[0m\u001b[0;34m\u001b[0m\u001b[0;34m\u001b[0m\u001b[0m\n\u001b[0;32m---> 58\u001b[0;31m     \u001b[0;32mreturn\u001b[0m \u001b[0mextract_diagnosis\u001b[0m\u001b[0;34m(\u001b[0m\u001b[0mdf\u001b[0m\u001b[0;34m,\u001b[0m \u001b[0mresources_path\u001b[0m\u001b[0;34m)\u001b[0m\u001b[0;34m\u001b[0m\u001b[0;34m\u001b[0m\u001b[0m\n\u001b[0m\u001b[1;32m     59\u001b[0m \u001b[0;34m\u001b[0m\u001b[0m\n\u001b[1;32m     60\u001b[0m \u001b[0;32mdef\u001b[0m \u001b[0mread_procedures\u001b[0m\u001b[0;34m(\u001b[0m\u001b[0msubject_path\u001b[0m\u001b[0;34m,\u001b[0m \u001b[0mresources_path\u001b[0m\u001b[0;34m)\u001b[0m\u001b[0;34m:\u001b[0m\u001b[0;34m\u001b[0m\u001b[0;34m\u001b[0m\u001b[0m\n",
      "\u001b[0;32m~/KDD-MIMIC/mimic_benchmark/utils/episode_custom.py\u001b[0m in \u001b[0;36mextract_diagnosis\u001b[0;34m(diagnoses, resources_path)\u001b[0m\n\u001b[1;32m     35\u001b[0m             \u001b[0mlabels\u001b[0m\u001b[0;34m[\u001b[0m\u001b[0ml\u001b[0m\u001b[0;34m]\u001b[0m \u001b[0;34m=\u001b[0m \u001b[0;36m0\u001b[0m\u001b[0;34m\u001b[0m\u001b[0;34m\u001b[0m\u001b[0m\n\u001b[1;32m     36\u001b[0m     \u001b[0mlabels\u001b[0m \u001b[0;34m=\u001b[0m \u001b[0mlabels\u001b[0m\u001b[0;34m[\u001b[0m\u001b[0micd_codes\u001b[0m\u001b[0;34m]\u001b[0m\u001b[0;34m\u001b[0m\u001b[0;34m\u001b[0m\u001b[0m\n\u001b[0;32m---> 37\u001b[0;31m     \u001b[0;32mreturn\u001b[0m \u001b[0mlabels\u001b[0m\u001b[0;34m.\u001b[0m\u001b[0mrename\u001b[0m\u001b[0;34m(\u001b[0m\u001b[0mdict\u001b[0m\u001b[0;34m(\u001b[0m\u001b[0mzip\u001b[0m\u001b[0;34m(\u001b[0m\u001b[0micd_codes\u001b[0m\u001b[0;34m,\u001b[0m \u001b[0mvariables\u001b[0m\u001b[0;34m)\u001b[0m\u001b[0;34m)\u001b[0m\u001b[0;34m,\u001b[0m \u001b[0maxis\u001b[0m\u001b[0;34m=\u001b[0m\u001b[0;36m1\u001b[0m\u001b[0;34m)\u001b[0m\u001b[0;34m.\u001b[0m\u001b[0mset_index\u001b[0m\u001b[0;34m(\u001b[0m\u001b[0;34m'ICUSTAY_ID'\u001b[0m\u001b[0;34m)\u001b[0m\u001b[0;34m\u001b[0m\u001b[0;34m\u001b[0m\u001b[0m\n\u001b[0m\u001b[1;32m     38\u001b[0m \u001b[0;34m\u001b[0m\u001b[0m\n\u001b[1;32m     39\u001b[0m \u001b[0;34m\u001b[0m\u001b[0m\n",
      "\u001b[0;32m/opt/anaconda/anaconda3/lib/python3.7/site-packages/pandas/core/frame.py\u001b[0m in \u001b[0;36mset_index\u001b[0;34m(self, keys, drop, append, inplace, verify_integrity)\u001b[0m\n\u001b[1;32m   4409\u001b[0m \u001b[0;34m\u001b[0m\u001b[0m\n\u001b[1;32m   4410\u001b[0m         \u001b[0;32mif\u001b[0m \u001b[0mmissing\u001b[0m\u001b[0;34m:\u001b[0m\u001b[0;34m\u001b[0m\u001b[0;34m\u001b[0m\u001b[0m\n\u001b[0;32m-> 4411\u001b[0;31m             \u001b[0;32mraise\u001b[0m \u001b[0mKeyError\u001b[0m\u001b[0;34m(\u001b[0m\u001b[0;34m\"None of {} are in the columns\"\u001b[0m\u001b[0;34m.\u001b[0m\u001b[0mformat\u001b[0m\u001b[0;34m(\u001b[0m\u001b[0mmissing\u001b[0m\u001b[0;34m)\u001b[0m\u001b[0;34m)\u001b[0m\u001b[0;34m\u001b[0m\u001b[0;34m\u001b[0m\u001b[0m\n\u001b[0m\u001b[1;32m   4412\u001b[0m \u001b[0;34m\u001b[0m\u001b[0m\n\u001b[1;32m   4413\u001b[0m         \u001b[0;32mif\u001b[0m \u001b[0minplace\u001b[0m\u001b[0;34m:\u001b[0m\u001b[0;34m\u001b[0m\u001b[0;34m\u001b[0m\u001b[0m\n",
      "\u001b[0;31mKeyError\u001b[0m: \"None of ['ICUSTAY_ID'] are in the columns\""
     ]
    }
   ],
   "source": [
    "def episode_split(subject_dir ,variables):\n",
    "    dn = os.path.join(output_subject_path, str(subject_dir))\n",
    "    print(dn)\n",
    "    try:\n",
    "        subject_id = int(subject_dir)\n",
    "        if not os.path.isdir(dn):\n",
    "            raise Exception\n",
    "    except:\n",
    "        sys.stderr.write('No dir for subject: {}\\n'.format(subject_id))\n",
    "        return\n",
    "    print(\"reading tables...\")\n",
    "    # read tables of this subject\n",
    "    stays = read_stays(dn)\n",
    "    diagnoses = read_diagnoses(dn, resources_path)\n",
    "    procedures = read_procedures(dn, resources_path)\n",
    "    # map itemids to variables in event\n",
    "    events = read_events(dn, resources_path)\n",
    "\n",
    "    print(\"reading static data...\")\n",
    "    episodic_data = assemble_episodic_data(stays, diagnoses, procedures)\n",
    "\n",
    "    # cleaning and converting to time series\n",
    "    #events = clean_events(events)\n",
    "    if events.shape[0] == 0:\n",
    "        # no valid events for this subject\n",
    "        sys.stderr.write('No valid events for this subject: {}\\n'.format(subject_id))\n",
    "        return\n",
    "    print(\"reading timeseries data...\")\n",
    "    timeseries = convert_events_to_timeseries(events, variables=variables)\n",
    "    # extracting separate episodes\n",
    "    print(\"extracting separate episodes\")\n",
    "    for i in range(stays.shape[0]):\n",
    "        stay_id = stays.ICUSTAY_ID.iloc[i]\n",
    "        intime = stays.INTIME.iloc[i]\n",
    "        outtime = stays.OUTTIME.iloc[i]\n",
    "\n",
    "        episode = get_events_for_stay(timeseries, stay_id, intime, outtime)\n",
    "        if episode.shape[0] == 0:\n",
    "            # no data for this episode\n",
    "            continue\n",
    "\n",
    "        episode = add_hours_elpased_to_events(episode, intime).set_index('HOURS').sort_index(axis=0)\n",
    "        \n",
    "        episodic_data.loc[episodic_data.index == stay_id].to_csv(os.path.join(dh,'episode{}.csv'.format(i+1)),index_label='Icustay')\n",
    "        columns = list(episode.columns)\n",
    "        columns_sorted = sorted(columns, key=(lambda x: \"\" if x == \"HOURS\" else x))\n",
    "        episode = episode[columns_sorted]\n",
    "        episode.to_csv(os.path.join(dh, 'episode{}_timeseries.csv'.format(i+1)),index_label='HOURS')\n",
    "episode_split(46600, variables)"
   ]
  },
  {
   "cell_type": "code",
   "execution_count": null,
   "metadata": {},
   "outputs": [],
   "source": []
  },
  {
   "cell_type": "raw",
   "metadata": {},
   "source": [
    "\n",
    "# read all variables in events\n",
    "variables = read_variables(resources_path)\n",
    "#####################################################\n",
    "for subject_dir in tqdm(os.listdir(output_subject_path), desc='Iterating over subjects'):\n",
    "    dn = os.path.join(output_subject_path, subject_dir)\n",
    "    print(dn)\n",
    "    try:\n",
    "        subject_id = int(subject_dir)\n",
    "        print(subject_id)\n",
    "        if not os.path.isdir(dn):\n",
    "            raise Exception\n",
    "    except:\n",
    "        continue\n",
    "\n",
    "    print(\"reading tables...\")\n",
    "    try:\n",
    "        # read tables of this subject\n",
    "        stays = read_stays(os.path.join(output_subject_path, subject_dir))\n",
    "        diagnoses = read_diagnoses(os.path.join(output_subject_path, subject_dir), resources_path)\n",
    "        procedures = read_procedures(os.path.join(output_subject_path, subject_dir), resources_path)\n",
    "        # map itemids to variables in event\n",
    "        events = read_events(os.path.join(output_subject_path, subject_dir), resources_path)\n",
    "    except:\n",
    "        sys.stderr.write('Error reading from disk for subject: {}\\n'.format(subject_id))\n",
    "        continue\n",
    "    print(\"reading static data...\")\n",
    "    episodic_data = assemble_episodic_data(stays, diagnoses, procedures)\n",
    "\n",
    "    # cleaning and converting to time series\n",
    "    #events = clean_events(events)\n",
    "    if events.shape[0] == 0:\n",
    "        # no valid events for this subject\n",
    "        continue\n",
    "    print(\"reading timeseries data...\")\n",
    "    timeseries = convert_events_to_timeseries(events, variables=variables)\n",
    "    # extracting separate episodes\n",
    "    print(\"extracting separate episodes\")\n",
    "    for i in range(stays.shape[0]):\n",
    "        stay_id = stays.ICUSTAY_ID.iloc[i]\n",
    "        intime = stays.INTIME.iloc[i]\n",
    "        outtime = stays.OUTTIME.iloc[i]\n",
    "\n",
    "        episode = get_events_for_stay(timeseries, stay_id, intime, outtime)\n",
    "        if episode.shape[0] == 0:\n",
    "            # no data for this episode\n",
    "            continue\n",
    "\n",
    "        episode = add_hours_elpased_to_events(episode, intime).set_index('HOURS').sort_index(axis=0)\n",
    "        \n",
    "        episodic_data.loc[episodic_data.index == stay_id].to_csv(os.path.join(output_subject_path, subject_dir,\n",
    "                                                                            'episode{}.csv'.format(i+1)),\n",
    "                                                                index_label='Icustay')\n",
    "        columns = list(episode.columns)\n",
    "        columns_sorted = sorted(columns, key=(lambda x: \"\" if x == \"HOURS\" else x))\n",
    "        episode = episode[columns_sorted]\n",
    "        episode.to_csv(os.path.join(output_subject_path, subject_dir, 'episode{}_timeseries.csv'.format(i+1)),\n",
    "                    index_label='HOURS')\n",
    "    break"
   ]
  },
  {
   "cell_type": "code",
   "execution_count": null,
   "metadata": {},
   "outputs": [],
   "source": []
  }
 ],
 "metadata": {
  "kernelspec": {
   "display_name": "pt",
   "language": "python",
   "name": "pt"
  },
  "language_info": {
   "codemirror_mode": {
    "name": "ipython",
    "version": 3
   },
   "file_extension": ".py",
   "mimetype": "text/x-python",
   "name": "python",
   "nbconvert_exporter": "python",
   "pygments_lexer": "ipython3",
   "version": "3.7.3"
  }
 },
 "nbformat": 4,
 "nbformat_minor": 2
}
