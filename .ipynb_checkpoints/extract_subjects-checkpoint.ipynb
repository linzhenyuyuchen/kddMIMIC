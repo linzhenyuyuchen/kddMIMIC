{
 "cells": [
  {
   "cell_type": "code",
   "execution_count": 1,
   "metadata": {},
   "outputs": [],
   "source": [
    "from utils.data_analysis import *\n",
    "from utils.preprocessing import *\n",
    "from utils.readers import *\n",
    "from utils.read_csv import *\n",
    "from utils.subject_split import *"
   ]
  },
  {
   "cell_type": "code",
   "execution_count": 2,
   "metadata": {},
   "outputs": [],
   "source": [
    "import yaml\n",
    "import numpy as np\n",
    "import pandas as pd\n",
    "import os"
   ]
  },
  {
   "cell_type": "code",
   "execution_count": 3,
   "metadata": {},
   "outputs": [],
   "source": [
    "cfg = yaml.load(open(\"./config.yaml\",\"r\"), Loader=yaml.FullLoader)"
   ]
  },
  {
   "cell_type": "code",
   "execution_count": 4,
   "metadata": {},
   "outputs": [],
   "source": [
    "mimic3_path = cfg[\"mimic3_path\"]\n",
    "output_path = cfg[\"output_path\"]\n",
    "output_subject_path = cfg[\"output_subject_path\"]\n",
    "phenotype_definitions = cfg[\"phenotype_definitions\"]\n",
    "itemids_file = cfg[\"itemids_file\"]\n",
    "event_tables = cfg[\"event_tables\"]"
   ]
  },
  {
   "cell_type": "code",
   "execution_count": 5,
   "metadata": {},
   "outputs": [],
   "source": [
    "# read specified columns\n",
    "patients = read_patients_table(mimic3_path)\n",
    "admits = read_admissions_table(mimic3_path)\n",
    "stays = read_icustays_table(mimic3_path)\n",
    "diagnoses = read_icd_diagnoses_table(mimic3_path)\n",
    "procedures = read_icd_procedures_table(mimic3_path)"
   ]
  },
  {
   "cell_type": "code",
   "execution_count": 6,
   "metadata": {},
   "outputs": [],
   "source": [
    "# merge together\n",
    "stays = merge_on_subject_admission(stays, admits)\n",
    "stays = merge_on_subject(stays, patients)\n",
    "stays = filter_admissions_on_nb_icustays(stays, 1, 1)\n",
    "stays = add_age_to_icustays(stays)\n",
    "stays = add_inunit_mortality_to_icustays(stays)\n",
    "stays = add_inhospital_mortality_to_icustays(stays)\n",
    "stays = filter_icustays_on_age(stays,18)"
   ]
  },
  {
   "cell_type": "code",
   "execution_count": 7,
   "metadata": {},
   "outputs": [],
   "source": [
    "stays.to_csv(os.path.join(output_path, 'all_stays.csv'), index=False)"
   ]
  },
  {
   "cell_type": "code",
   "execution_count": 8,
   "metadata": {},
   "outputs": [],
   "source": [
    "diagnoses = filter_diagnoses_on_stays(diagnoses, stays)\n",
    "diagnoses.to_csv(os.path.join(output_path, 'all_diagnoses.csv'), index=False)"
   ]
  },
  {
   "cell_type": "code",
   "execution_count": 9,
   "metadata": {},
   "outputs": [],
   "source": [
    "procedures = filter_procedures_on_stays(procedures, stays)\n",
    "procedures.to_csv(os.path.join(output_path, 'all_procedures.csv'), index=False)"
   ]
  },
  {
   "cell_type": "code",
   "execution_count": 10,
   "metadata": {},
   "outputs": [],
   "source": [
    "procedures_count = count_icd_codes(procedures)\n",
    "procedures_count.to_csv(os.path.join(output_path, 'procedures_count.csv'), index=False)"
   ]
  },
  {
   "cell_type": "code",
   "execution_count": 11,
   "metadata": {},
   "outputs": [],
   "source": [
    "diagnoses_count = count_icd_codes(diagnoses)\n",
    "diagnoses_count.to_csv(os.path.join(output_path, 'diagnoses_count.csv'), index=False)"
   ]
  },
  {
   "cell_type": "code",
   "execution_count": 12,
   "metadata": {},
   "outputs": [],
   "source": [
    "subjects = stays.SUBJECT_ID.unique()"
   ]
  },
  {
   "cell_type": "code",
   "execution_count": 13,
   "metadata": {},
   "outputs": [
    {
     "data": {
      "application/vnd.jupyter.widget-view+json": {
       "model_id": "95681bb495cc41f9902059b2b02dd0fd",
       "version_major": 2,
       "version_minor": 0
      },
      "text/plain": [
       "HBox(children=(IntProgress(value=0, description='Breaking up stays by subjects', max=36615, style=ProgressStyl…"
      ]
     },
     "metadata": {},
     "output_type": "display_data"
    },
    {
     "name": "stdout",
     "output_type": "stream",
     "text": [
      "\n"
     ]
    }
   ],
   "source": [
    "break_up_stays_by_subject(stays, output_subject_path, subjects=subjects)"
   ]
  },
  {
   "cell_type": "code",
   "execution_count": 14,
   "metadata": {},
   "outputs": [],
   "source": [
    "definitions = yaml.load(open(phenotype_definitions, 'r'), Loader=yaml.FullLoader)\n",
    "#####################################################\n",
    "\"\"\"\n",
    "{'Tuberculosis': {'use_in_benchmark': False,\n",
    "  'type': 'unknown',\n",
    "  'id': 1,\n",
    "  'codes': [\n",
    "   '01000',\n",
    "   '01001',\n",
    "   '01002',]\n",
    "    },\n",
    "}\n",
    "\"\"\"\n",
    "#####################################################\n"
   ]
  },
  {
   "cell_type": "code",
   "execution_count": 16,
   "metadata": {},
   "outputs": [],
   "source": [
    "diagnoses_with_phenotypes = add_hcup_ccs_2015_groups(diagnoses, definitions)"
   ]
  },
  {
   "cell_type": "code",
   "execution_count": 21,
   "metadata": {},
   "outputs": [],
   "source": [
    "# phenotype labels for icustays with multi-hot\n",
    "phenotype_labels = make_phenotype_label_matrix(diagnoses_with_phenotypes, stays)\n",
    "phenotype_labels.to_csv(os.path.join(output_path, 'phenotype_labels.csv'), index=False, quoting=csv.QUOTE_NONNUMERIC)"
   ]
  },
  {
   "cell_type": "code",
   "execution_count": 23,
   "metadata": {},
   "outputs": [
    {
     "data": {
      "application/vnd.jupyter.widget-view+json": {
       "model_id": "c337c0ce370c40bc8806c6489fda19ec",
       "version_major": 2,
       "version_minor": 0
      },
      "text/plain": [
       "HBox(children=(IntProgress(value=0, description='Breaking up diagnoses by subjects', max=36615, style=Progress…"
      ]
     },
     "metadata": {},
     "output_type": "display_data"
    },
    {
     "name": "stdout",
     "output_type": "stream",
     "text": [
      "\n"
     ]
    }
   ],
   "source": [
    "break_up_diagnoses_by_subject(diagnoses_with_phenotypes, output_subject_path, subjects=subjects)"
   ]
  },
  {
   "cell_type": "code",
   "execution_count": 25,
   "metadata": {},
   "outputs": [],
   "source": [
    "items_to_keep = set(\n",
    "    [int(itemid) for itemid in dataframe_from_csv(itemids_file)['ITEMID'].unique()]) if itemids_file else None"
   ]
  },
  {
   "cell_type": "code",
   "execution_count": 32,
   "metadata": {},
   "outputs": [
    {
     "data": {
      "application/vnd.jupyter.widget-view+json": {
       "model_id": "873250fed7104ab6815fa57190cfd811",
       "version_major": 2,
       "version_minor": 0
      },
      "text/plain": [
       "HBox(children=(FloatProgress(value=0.0, description='Processing chartevents table', max=330712484.0, style=Pro…"
      ]
     },
     "metadata": {},
     "output_type": "display_data"
    },
    {
     "name": "stdout",
     "output_type": "stream",
     "text": [
      "\n"
     ]
    }
   ],
   "source": [
    "for table in event_tables:\n",
    "    read_events_table_and_break_up_by_subject(mimic3_path, table, output_subject_path, items_to_keep=items_to_keep,\n",
    "                                              subjects_to_keep=subjects)"
   ]
  }
 ],
 "metadata": {
  "kernelspec": {
   "display_name": "pt",
   "language": "python",
   "name": "pt"
  },
  "language_info": {
   "codemirror_mode": {
    "name": "ipython",
    "version": 3
   },
   "file_extension": ".py",
   "mimetype": "text/x-python",
   "name": "python",
   "nbconvert_exporter": "python",
   "pygments_lexer": "ipython3",
   "version": "3.7.3"
  }
 },
 "nbformat": 4,
 "nbformat_minor": 2
}
